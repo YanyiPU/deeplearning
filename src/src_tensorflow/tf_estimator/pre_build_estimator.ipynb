{
 "cells": [
  {
   "cell_type": "markdown",
   "id": "reserved-province",
   "metadata": {},
   "source": [
    "# 1.Setup"
   ]
  },
  {
   "cell_type": "code",
   "execution_count": 64,
   "id": "interpreted-botswana",
   "metadata": {},
   "outputs": [],
   "source": [
    "import utils_csv\n",
    "import utils_feature_engine\n",
    "import os\n",
    "import sys\n",
    "import numpy as np\n",
    "import pandas as pd\n",
    "import matplotlib.pyplot as plt\n",
    "from sklearn.metrics import roc_curve\n",
    "from six.moves import urllib\n",
    "import tensorflow as tf\n",
    "import tensorflow.compat.v2.feature_column as fc\n",
    "\n",
    "from IPython.display import clear_output\n",
    "from IPython.core.interactiveshell import InteractiveShell\n",
    "InteractiveShell.ast_node_interactivity = \"all\"\n",
    "tf.random.set_seed(123)"
   ]
  },
  {
   "cell_type": "markdown",
   "id": "express-brooks",
   "metadata": {},
   "source": [
    "# 2.数据"
   ]
  },
  {
   "cell_type": "markdown",
   "id": "urban-acrylic",
   "metadata": {},
   "source": [
    "## 2.1 鸢尾花数据"
   ]
  },
  {
   "cell_type": "code",
   "execution_count": 65,
   "id": "monetary-mainland",
   "metadata": {},
   "outputs": [
    {
     "data": {
      "text/html": [
       "<div>\n",
       "<style scoped>\n",
       "    .dataframe tbody tr th:only-of-type {\n",
       "        vertical-align: middle;\n",
       "    }\n",
       "\n",
       "    .dataframe tbody tr th {\n",
       "        vertical-align: top;\n",
       "    }\n",
       "\n",
       "    .dataframe thead th {\n",
       "        text-align: right;\n",
       "    }\n",
       "</style>\n",
       "<table border=\"1\" class=\"dataframe\">\n",
       "  <thead>\n",
       "    <tr style=\"text-align: right;\">\n",
       "      <th></th>\n",
       "      <th>SepalLength</th>\n",
       "      <th>SepalWidth</th>\n",
       "      <th>PetalLength</th>\n",
       "      <th>PetalWidth</th>\n",
       "    </tr>\n",
       "  </thead>\n",
       "  <tbody>\n",
       "    <tr>\n",
       "      <th>0</th>\n",
       "      <td>6.4</td>\n",
       "      <td>2.8</td>\n",
       "      <td>5.6</td>\n",
       "      <td>2.2</td>\n",
       "    </tr>\n",
       "    <tr>\n",
       "      <th>1</th>\n",
       "      <td>5.0</td>\n",
       "      <td>2.3</td>\n",
       "      <td>3.3</td>\n",
       "      <td>1.0</td>\n",
       "    </tr>\n",
       "    <tr>\n",
       "      <th>2</th>\n",
       "      <td>4.9</td>\n",
       "      <td>2.5</td>\n",
       "      <td>4.5</td>\n",
       "      <td>1.7</td>\n",
       "    </tr>\n",
       "    <tr>\n",
       "      <th>3</th>\n",
       "      <td>4.9</td>\n",
       "      <td>3.1</td>\n",
       "      <td>1.5</td>\n",
       "      <td>0.1</td>\n",
       "    </tr>\n",
       "    <tr>\n",
       "      <th>4</th>\n",
       "      <td>5.7</td>\n",
       "      <td>3.8</td>\n",
       "      <td>1.7</td>\n",
       "      <td>0.3</td>\n",
       "    </tr>\n",
       "  </tbody>\n",
       "</table>\n",
       "</div>"
      ],
      "text/plain": [
       "   SepalLength  SepalWidth  PetalLength  PetalWidth\n",
       "0          6.4         2.8          5.6         2.2\n",
       "1          5.0         2.3          3.3         1.0\n",
       "2          4.9         2.5          4.5         1.7\n",
       "3          4.9         3.1          1.5         0.1\n",
       "4          5.7         3.8          1.7         0.3"
      ]
     },
     "execution_count": 65,
     "metadata": {},
     "output_type": "execute_result"
    },
    {
     "data": {
      "text/plain": [
       "0    2\n",
       "1    1\n",
       "2    2\n",
       "3    0\n",
       "4    0\n",
       "Name: Species, dtype: int64"
      ]
     },
     "execution_count": 65,
     "metadata": {},
     "output_type": "execute_result"
    }
   ],
   "source": [
    "CSV_COLUMN_NAMES = ['SepalLength', 'SepalWidth', 'PetalLength', 'PetalWidth', 'Species']\n",
    "CSV_TARGET_NAMES = \"Species\"\n",
    "SPECIES = ['Setosa', 'Versicolor', 'Virginica']\n",
    "\n",
    "train_path = tf.keras.utils.get_file(\"iris_training.csv\", \"https://storage.googleapis.com/download.tensorflow.org/data/iris_training.csv\")\n",
    "test_path = tf.keras.utils.get_file(\"iris_test.csv\", \"https://storage.googleapis.com/download.tensorflow.org/data/iris_test.csv\")\n",
    "train = pd.read_csv(train_path, names = CSV_COLUMN_NAMES, header = 0)\n",
    "test = pd.read_csv(test_path, names = CSV_COLUMN_NAMES, header = 0)\n",
    "train_y = train.pop(CSV_TARGET_NAMES)\n",
    "test_y = test.pop(CSV_TARGET_NAMES)\n",
    "train.head()\n",
    "train_y.head()"
   ]
  },
  {
   "cell_type": "markdown",
   "id": "freelance-differential",
   "metadata": {},
   "source": [
    "## 2.2 泰坦尼克号数据"
   ]
  },
  {
   "cell_type": "code",
   "execution_count": 66,
   "id": "tropical-dutch",
   "metadata": {},
   "outputs": [],
   "source": [
    "BATCH_SIZE = 12\n",
    "NUM_EPOCHS = 1\n",
    "CSV_COLUMNS = [\n",
    "    'survived', \n",
    "    'sex', \n",
    "    'age', \n",
    "    'n_siblings_spouses', \n",
    "    'parch', \n",
    "    'fare', \n",
    "    'class', \n",
    "    'deck', \n",
    "    'embark_town', \n",
    "    'alone'\n",
    "]\n",
    "LABEL_COLUMN = \"survived\"\n",
    "LABELS = [0, 1]\n",
    "\n",
    "# TRAIN_DATA_URL = \"https://storage.googleapis.com/tf-datasets/titanic/train.csv\"\n",
    "# TEST_DATA_URL = \"https://storage.googleapis.com/tf-datasets/titanic/eval.csv\"\n",
    "TRAIN_DATA_URL = \"~/.keras/datasets/train.csv\"\n",
    "TEST_DATA_URL = \"~/.keras/datasets/test.csv\"\n",
    "train_file_path, test_file_path = utils_csv.get_csv_path(TRAIN_DATA_URL, \"train.csv\", TEST_DATA_URL, \"test.csv\")\n",
    "train = utils_csv.get_csv_dataset(train_file_path, CSV_COLUMNS, LABEL_COLUMN, BATCH_SIZE, NUM_EPOCHS)\n",
    "test = utils_csv.get_csv_dataset(test_file_path, CSV_COLUMNS, LABEL_COLUMN, BATCH_SIZE, NUM_EPOCHS)"
   ]
  },
  {
   "cell_type": "code",
   "execution_count": 67,
   "id": "congressional-graduation",
   "metadata": {},
   "outputs": [
    {
     "data": {
      "text/html": [
       "<div>\n",
       "<style scoped>\n",
       "    .dataframe tbody tr th:only-of-type {\n",
       "        vertical-align: middle;\n",
       "    }\n",
       "\n",
       "    .dataframe tbody tr th {\n",
       "        vertical-align: top;\n",
       "    }\n",
       "\n",
       "    .dataframe thead th {\n",
       "        text-align: right;\n",
       "    }\n",
       "</style>\n",
       "<table border=\"1\" class=\"dataframe\">\n",
       "  <thead>\n",
       "    <tr style=\"text-align: right;\">\n",
       "      <th></th>\n",
       "      <th>sex</th>\n",
       "      <th>age</th>\n",
       "      <th>n_siblings_spouses</th>\n",
       "      <th>parch</th>\n",
       "      <th>fare</th>\n",
       "      <th>class</th>\n",
       "      <th>deck</th>\n",
       "      <th>embark_town</th>\n",
       "      <th>alone</th>\n",
       "    </tr>\n",
       "  </thead>\n",
       "  <tbody>\n",
       "    <tr>\n",
       "      <th>0</th>\n",
       "      <td>male</td>\n",
       "      <td>22.0</td>\n",
       "      <td>1</td>\n",
       "      <td>0</td>\n",
       "      <td>7.2500</td>\n",
       "      <td>Third</td>\n",
       "      <td>unknown</td>\n",
       "      <td>Southampton</td>\n",
       "      <td>n</td>\n",
       "    </tr>\n",
       "    <tr>\n",
       "      <th>1</th>\n",
       "      <td>female</td>\n",
       "      <td>38.0</td>\n",
       "      <td>1</td>\n",
       "      <td>0</td>\n",
       "      <td>71.2833</td>\n",
       "      <td>First</td>\n",
       "      <td>C</td>\n",
       "      <td>Cherbourg</td>\n",
       "      <td>n</td>\n",
       "    </tr>\n",
       "    <tr>\n",
       "      <th>2</th>\n",
       "      <td>female</td>\n",
       "      <td>26.0</td>\n",
       "      <td>0</td>\n",
       "      <td>0</td>\n",
       "      <td>7.9250</td>\n",
       "      <td>Third</td>\n",
       "      <td>unknown</td>\n",
       "      <td>Southampton</td>\n",
       "      <td>y</td>\n",
       "    </tr>\n",
       "    <tr>\n",
       "      <th>3</th>\n",
       "      <td>female</td>\n",
       "      <td>35.0</td>\n",
       "      <td>1</td>\n",
       "      <td>0</td>\n",
       "      <td>53.1000</td>\n",
       "      <td>First</td>\n",
       "      <td>C</td>\n",
       "      <td>Southampton</td>\n",
       "      <td>n</td>\n",
       "    </tr>\n",
       "    <tr>\n",
       "      <th>4</th>\n",
       "      <td>male</td>\n",
       "      <td>28.0</td>\n",
       "      <td>0</td>\n",
       "      <td>0</td>\n",
       "      <td>8.4583</td>\n",
       "      <td>Third</td>\n",
       "      <td>unknown</td>\n",
       "      <td>Queenstown</td>\n",
       "      <td>y</td>\n",
       "    </tr>\n",
       "  </tbody>\n",
       "</table>\n",
       "</div>"
      ],
      "text/plain": [
       "      sex   age  n_siblings_spouses  parch     fare  class     deck  \\\n",
       "0    male  22.0                   1      0   7.2500  Third  unknown   \n",
       "1  female  38.0                   1      0  71.2833  First        C   \n",
       "2  female  26.0                   0      0   7.9250  Third  unknown   \n",
       "3  female  35.0                   1      0  53.1000  First        C   \n",
       "4    male  28.0                   0      0   8.4583  Third  unknown   \n",
       "\n",
       "   embark_town alone  \n",
       "0  Southampton     n  \n",
       "1    Cherbourg     n  \n",
       "2  Southampton     y  \n",
       "3  Southampton     n  \n",
       "4   Queenstown     y  "
      ]
     },
     "execution_count": 67,
     "metadata": {},
     "output_type": "execute_result"
    },
    {
     "data": {
      "text/plain": [
       "0    0\n",
       "1    1\n",
       "2    1\n",
       "3    1\n",
       "4    0\n",
       "Name: survived, dtype: int64"
      ]
     },
     "execution_count": 67,
     "metadata": {},
     "output_type": "execute_result"
    }
   ],
   "source": [
    "CSV_COLUMN_NAMES = ['survived', 'sex', 'age', 'n_siblings_spouses', 'parch', 'fare', 'class', 'deck', 'embark_town', 'alone']\n",
    "CSV_TARGET_NAMES = \"survived\"\n",
    "SURVIVED = [\"1\", \"0\"]\n",
    "\n",
    "train_path = tf.keras.utils.get_file(fname = \"train.csv\", origin = \"https://storage.googleapis.com/tf-datasets/titanic/train.csv\")\n",
    "test_path = tf.keras.utils.get_file(fname = \"test.csv\", origin = \"https://storage.googleapis.com/tf-datasets/titanic/eval.csv\")\n",
    "train = pd.read_csv(train_path, names = CSV_COLUMN_NAMES, header = 0)\n",
    "test = pd.read_csv(test_path, names = CSV_COLUMN_NAMES, header = 0)\n",
    "train_y = train.pop(CSV_TARGET_NAMES)\n",
    "test_y = test.pop(CSV_TARGET_NAMES)\n",
    "train.head()\n",
    "y_train.head()\n",
    "# train.shape\n",
    "# test.shape\n",
    "# train.describe()\n",
    "# train.age.hist(bins = 20)\n",
    "# train.sex.value_counts().plot(kind = \"barh\")\n",
    "# train[\"class\"].value_counts().plot(kind = \"barh\")\n",
    "# pd.concat([train, y_train], axis = 1).groupby(\"sex\").survived.mean().plot(kind = \"barh\").set_xlabel(\"% survive\")"
   ]
  },
  {
   "cell_type": "markdown",
   "id": "seven-discharge",
   "metadata": {},
   "source": [
    "# 3.TensorFlow Estimator 编程"
   ]
  },
  {
   "cell_type": "markdown",
   "id": "analyzed-southeast",
   "metadata": {},
   "source": [
    "## 3.1 创建输入函数"
   ]
  },
  {
   "cell_type": "markdown",
   "id": "auburn-newfoundland",
   "metadata": {},
   "source": [
    "## 3.2 定义特征列"
   ]
  },
  {
   "cell_type": "markdown",
   "id": "champion-danish",
   "metadata": {},
   "source": [
    "### 3.2.1 鸢尾花数据-基本特征列"
   ]
  },
  {
   "cell_type": "code",
   "execution_count": 69,
   "id": "equipped-flooring",
   "metadata": {},
   "outputs": [
    {
     "data": {
      "text/plain": [
       "[NumericColumn(key='sex', shape=(1,), default_value=None, dtype=tf.float32, normalizer_fn=None),\n",
       " NumericColumn(key='age', shape=(1,), default_value=None, dtype=tf.float32, normalizer_fn=None),\n",
       " NumericColumn(key='n_siblings_spouses', shape=(1,), default_value=None, dtype=tf.float32, normalizer_fn=None),\n",
       " NumericColumn(key='parch', shape=(1,), default_value=None, dtype=tf.float32, normalizer_fn=None),\n",
       " NumericColumn(key='fare', shape=(1,), default_value=None, dtype=tf.float32, normalizer_fn=None),\n",
       " NumericColumn(key='class', shape=(1,), default_value=None, dtype=tf.float32, normalizer_fn=None),\n",
       " NumericColumn(key='deck', shape=(1,), default_value=None, dtype=tf.float32, normalizer_fn=None),\n",
       " NumericColumn(key='embark_town', shape=(1,), default_value=None, dtype=tf.float32, normalizer_fn=None),\n",
       " NumericColumn(key='alone', shape=(1,), default_value=None, dtype=tf.float32, normalizer_fn=None)]"
      ]
     },
     "execution_count": 69,
     "metadata": {},
     "output_type": "execute_result"
    }
   ],
   "source": [
    "fc = tf.feature_column\n",
    "CAETGORICAL_COLUMNS = []\n",
    "NUMERIC_COLUMNS = ['SepalLength', 'SepalWidth', 'PetalLength', 'PetalWidth']\n",
    "\n",
    "feature_columns = []\n",
    "for feature_name in NUMERIC_COLUMNS:\n",
    "    feature_columns.append(utils_feature_engine.make_numeric_column(feature_name))\n",
    "feature_columns"
   ]
  },
  {
   "cell_type": "markdown",
   "id": "separated-hostel",
   "metadata": {},
   "source": [
    "### 3.2.2 泰坦尼克号数据-基本特征列"
   ]
  },
  {
   "cell_type": "code",
   "execution_count": 70,
   "id": "constitutional-hello",
   "metadata": {},
   "outputs": [
    {
     "data": {
      "text/plain": [
       "[VocabularyListCategoricalColumn(key='sex', vocabulary_list=('male', 'female'), dtype=tf.string, default_value=-1, num_oov_buckets=0),\n",
       " VocabularyListCategoricalColumn(key='n_siblings_spouses', vocabulary_list=(1, 0, 3, 4, 2, 5, 8), dtype=tf.int64, default_value=-1, num_oov_buckets=0),\n",
       " VocabularyListCategoricalColumn(key='parch', vocabulary_list=(0, 1, 2, 5, 3, 4), dtype=tf.int64, default_value=-1, num_oov_buckets=0),\n",
       " VocabularyListCategoricalColumn(key='class', vocabulary_list=('Third', 'First', 'Second'), dtype=tf.string, default_value=-1, num_oov_buckets=0),\n",
       " VocabularyListCategoricalColumn(key='deck', vocabulary_list=('unknown', 'C', 'G', 'A', 'B', 'D', 'F', 'E'), dtype=tf.string, default_value=-1, num_oov_buckets=0),\n",
       " VocabularyListCategoricalColumn(key='embark_town', vocabulary_list=('Southampton', 'Cherbourg', 'Queenstown', 'unknown'), dtype=tf.string, default_value=-1, num_oov_buckets=0),\n",
       " VocabularyListCategoricalColumn(key='alone', vocabulary_list=('n', 'y'), dtype=tf.string, default_value=-1, num_oov_buckets=0),\n",
       " NumericColumn(key='age', shape=(1,), default_value=None, dtype=tf.float32, normalizer_fn=None),\n",
       " NumericColumn(key='fare', shape=(1,), default_value=None, dtype=tf.float32, normalizer_fn=None)]"
      ]
     },
     "execution_count": 70,
     "metadata": {},
     "output_type": "execute_result"
    }
   ],
   "source": [
    "fc = tf.feature_column\n",
    "CAETGORICAL_COLUMNS = [\"sex\", \"n_siblings_spouses\", \"parch\", \"class\", \"deck\", \"embark_town\", \"alone\"]\n",
    "NUMERIC_COLUMNS = [\"age\", \"fare\"]\n",
    "\n",
    "feature_columns = []\n",
    "for feature_name in CAETGORICAL_COLUMNS:\n",
    "    vocabulary = train[feature_name].unique()\n",
    "    feature_columns.append(utils_feature_engine.indicator_cat_column(feature_name, vocabulary))\n",
    "    feature_columns.append(utils_feature_engine.one_hot_cat_column(feature_name, vocabulary))\n",
    "\n",
    "for feature_name in NUMERIC_COLUMNS:\n",
    "    feature_columns.append(utils_feature_engine.make_numeric_column(feature_name))\n",
    "\n",
    "feature_columns"
   ]
  },
  {
   "cell_type": "markdown",
   "id": "insured-bibliography",
   "metadata": {},
   "source": [
    "### 3.2.3 泰坦尼克号数据-派生特征列"
   ]
  },
  {
   "cell_type": "code",
   "execution_count": 71,
   "id": "spoken-tractor",
   "metadata": {},
   "outputs": [],
   "source": [
    "age_x_gender = tf.feature_column.crossed_column([\"age\", \"sex\"], hash_bucket_size = 100)\n",
    "feature_columns += [age_x_gender]"
   ]
  },
  {
   "cell_type": "markdown",
   "id": "binding-rapid",
   "metadata": {},
   "source": [
    "## 3.3 实例化 Estimator\n",
    "\n",
    "- `tf.estimator.DNNClassifier`: 用于多类别分类的深度模型\n",
    "- `tf.estimator.DNNLinearCombinedClassifier`: 用于广度与深度模型\n",
    "- `tf.estimator.LinearClassifier`: 用于基于线性模型的分类器"
   ]
  },
  {
   "cell_type": "markdown",
   "id": "veterinary-equity",
   "metadata": {},
   "source": [
    "### 3.3.1 特征函数"
   ]
  },
  {
   "cell_type": "code",
   "execution_count": 72,
   "id": "eight-disney",
   "metadata": {},
   "outputs": [],
   "source": [
    "train_input_fn = utils_feature_engine.make_input_function(train, train_y, training = True)\n",
    "test_input_fn = utils_feature_engine.make_input_function(test, test_y, num_epochs = 1, training = False)"
   ]
  },
  {
   "cell_type": "markdown",
   "id": "illegal-premium",
   "metadata": {},
   "source": [
    "### 3.3.2 模型构建、训练"
   ]
  },
  {
   "cell_type": "code",
   "execution_count": 79,
   "id": "facial-playback",
   "metadata": {},
   "outputs": [
    {
     "name": "stdout",
     "output_type": "stream",
     "text": [
      "{'accuracy': 0.7083333, 'accuracy_baseline': 0.625, 'auc': 0.80293846, 'auc_precision_recall': 0.6969123, 'average_loss': 0.6215885, 'label/mean': 0.375, 'loss': 0.6828834, 'precision': 0.57746476, 'prediction/mean': 0.55690795, 'recall': 0.82828283, 'global_step': 25}\n"
     ]
    }
   ],
   "source": [
    "linear_est = tf.estimator.LinearClassifier(feature_columns=feature_columns)\n",
    "linear_est.train(train_input_fn)\n",
    "result = linear_est.evaluate(test_input_fn)\n",
    "\n",
    "clear_output()\n",
    "print(result)"
   ]
  },
  {
   "cell_type": "code",
   "execution_count": 81,
   "id": "chicken-transmission",
   "metadata": {},
   "outputs": [],
   "source": [
    "# classifier = tf.estimator.DNNClassifier(\n",
    "#     feature_columns = feature_columns,\n",
    "#     hidden_units = [30, 10],\n",
    "#     n_classes = 2,\n",
    "# )\n",
    "# classifier.train(\n",
    "#     input_fn = train_input_fn,\n",
    "#     steps = 5000\n",
    "# )\n",
    "# test_result = classifier.evaluate(\n",
    "#     input_fn = test_input_fn,\n",
    "# )\n",
    "\n",
    "# clear_output()\n",
    "# print(\"\\nTest set accuracy: {accuracy:0.3f}\".format(**test_result))"
   ]
  },
  {
   "cell_type": "code",
   "execution_count": 84,
   "id": "recognized-index",
   "metadata": {},
   "outputs": [
    {
     "name": "stdout",
     "output_type": "stream",
     "text": [
      "INFO:tensorflow:Calling model_fn.\n",
      "INFO:tensorflow:Done calling model_fn.\n",
      "INFO:tensorflow:Graph was finalized.\n",
      "INFO:tensorflow:Restoring parameters from /var/folders/mg/50rhj31j7m955hzvnjqw0w1m0000gn/T/tmp22kz9fqz/model.ckpt-25\n",
      "INFO:tensorflow:Running local_init_op.\n",
      "INFO:tensorflow:Done running local_init_op.\n"
     ]
    }
   ],
   "source": [
    "# y_true = ['Setosa', 'Versicolor', 'Virginica']\n",
    "# x_predict = {\n",
    "#     'SepalLength': [5.1, 5.9, 6.9],\n",
    "#     'SepalWidth': [3.3, 3.0, 3.1],\n",
    "#     'PetalLength': [1.7, 4.2, 5.4],\n",
    "#     'PetalWidth': [0.5, 1.5, 2.1],\n",
    "# }\n",
    "# y_predict = list(classifier.predict(input_fn = test_input_fn))\n",
    "y_predict = list(linear_est.predict(input_fn = test_input_fn))"
   ]
  },
  {
   "cell_type": "code",
   "execution_count": 61,
   "id": "scheduled-escape",
   "metadata": {},
   "outputs": [
    {
     "name": "stdout",
     "output_type": "stream",
     "text": [
      "Prediction is 'Virginica' (60.1%), expected 'Setosa'\n",
      "Prediction is 'Virginica' (66.6%), expected 'Versicolor'\n",
      "Prediction is 'Virginica' (52.7%), expected 'Virginica'\n"
     ]
    }
   ],
   "source": [
    "for pred_dict, expec in zip(y_predict, y_true):\n",
    "    class_id = pred_dict[\"class_ids\"][0]\n",
    "    probability = pred_dict[\"probabilities\"][class_id]\n",
    "    print(\"Prediction is '{}' ({:.1f}%), expected '{}'\".format(SPECIES[class_id], 100 * probability, expec))"
   ]
  },
  {
   "cell_type": "code",
   "execution_count": 85,
   "id": "numerical-syndicate",
   "metadata": {},
   "outputs": [
    {
     "data": {
      "text/plain": [
       "<AxesSubplot:title={'center':'predicted probabilities'}, ylabel='Frequency'>"
      ]
     },
     "execution_count": 85,
     "metadata": {},
     "output_type": "execute_result"
    },
    {
     "data": {
      "image/png": "[encoded data removed]",
      "text/plain": [
       "<Figure size 432x288 with 1 Axes>"
      ]
     },
     "metadata": {
      "needs_background": "light"
     },
     "output_type": "display_data"
    }
   ],
   "source": [
    "probs = pd.Series([pred[\"probabilities\"][1] for pred in y_predict])\n",
    "probs.plot(kind = \"hist\", bins = 20, title = \"predicted probabilities\")"
   ]
  },
  {
   "cell_type": "code",
   "execution_count": 87,
   "id": "addressed-breakfast",
   "metadata": {},
   "outputs": [
    {
     "data": {
      "text/plain": [
       "[<matplotlib.lines.Line2D at 0x197fe9150>]"
      ]
     },
     "execution_count": 87,
     "metadata": {},
     "output_type": "execute_result"
    },
    {
     "data": {
      "text/plain": [
       "Text(0.5, 1.0, 'ROC curve')"
      ]
     },
     "execution_count": 87,
     "metadata": {},
     "output_type": "execute_result"
    },
    {
     "data": {
      "text/plain": [
       "Text(0.5, 0, 'false positive rate')"
      ]
     },
     "execution_count": 87,
     "metadata": {},
     "output_type": "execute_result"
    },
    {
     "data": {
      "text/plain": [
       "Text(0, 0.5, 'true positive rate')"
      ]
     },
     "execution_count": 87,
     "metadata": {},
     "output_type": "execute_result"
    },
    {
     "data": {
      "text/plain": [
       "(0.0, 1.05)"
      ]
     },
     "execution_count": 87,
     "metadata": {},
     "output_type": "execute_result"
    },
    {
     "data": {
      "text/plain": [
       "(0.0, 1.05)"
      ]
     },
     "execution_count": 87,
     "metadata": {},
     "output_type": "execute_result"
    },
    {
     "data": {
      "image/png": "[encoded data removed]",
      "text/plain": [
       "<Figure size 432x288 with 1 Axes>"
      ]
     },
     "metadata": {
      "needs_background": "light"
     },
     "output_type": "display_data"
    }
   ],
   "source": [
    "fpr, tpr, _ = roc_curve(test_y, probs)\n",
    "plt.plot(fpr, tpr)\n",
    "plt.title('ROC curve')\n",
    "plt.xlabel('false positive rate')\n",
    "plt.ylabel('true positive rate')\n",
    "plt.xlim(0,)\n",
    "plt.ylim(0,)"
   ]
  }
 ],
 "metadata": {
  "kernelspec": {
   "display_name": "Python 3",
   "language": "python",
   "name": "python3"
  },
  "language_info": {
   "codemirror_mode": {
    "name": "ipython",
    "version": 3
   },
   "file_extension": ".py",
   "mimetype": "text/x-python",
   "name": "python",
   "nbconvert_exporter": "python",
   "pygments_lexer": "ipython3",
   "version": "3.7.10"
  }
 },
 "nbformat": 4,
 "nbformat_minor": 5
}
