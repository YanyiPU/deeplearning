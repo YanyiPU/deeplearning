{
 "cells": [
  {
   "cell_type": "code",
   "execution_count": 1,
   "id": "available-trainer",
   "metadata": {},
   "outputs": [],
   "source": [
    "import torch\n",
    "import torch.nn as nn\n",
    "from torch.utils.data import Dataset, DataLoader\n",
    "from torchvision import datasets\n",
    "from torchvision.transforms import ToTensor, Lambda"
   ]
  },
  {
   "cell_type": "code",
   "execution_count": 3,
   "id": "brown-updating",
   "metadata": {},
   "outputs": [],
   "source": [
    "training_data = datasets.FashionMNIST(\n",
    "    root = \"data\",\n",
    "    train = True,\n",
    "    download = False,\n",
    "    transform = ToTensor()\n",
    ")\n",
    "test_data = datasets.FashionMNIST(\n",
    "    root = \"data\",\n",
    "    train = False,\n",
    "    download = False,\n",
    "    transform = ToTensor()\n",
    ")\n",
    "\n",
    "train_dataloader = DataLoader(training_data, batch_size = 64)\n",
    "test_dataloader = DataLoader(test_data, batch_size = 64)"
   ]
  },
  {
   "cell_type": "code",
   "execution_count": 4,
   "id": "protected-dominican",
   "metadata": {
    "tags": []
   },
   "outputs": [],
   "source": [
    "class NeuralNetwork(nn.Module):\n",
    "    def __init__(self):\n",
    "        super(NeuralNetwork, self).__init__()\n",
    "        self.flatten = nn.Flatten()\n",
    "        self.linear_relu_stack = nn.Sequential(\n",
    "            nn.Linear(28 * 28, 512),\n",
    "            nn.ReLU(),\n",
    "            nn.Linear(512, 512),\n",
    "            nn.ReLU(),\n",
    "            nn.Linear(512, 10),\n",
    "        )\n",
    "\n",
    "    def forward(self, x):\n",
    "        x = self.flatten(x)\n",
    "        logits = self.linear_relu_stack(x)\n",
    "        return logits\n",
    "\n",
    "\n",
    "model = NeuralNetwork()"
   ]
  },
  {
   "cell_type": "code",
   "execution_count": 6,
   "id": "falling-ireland",
   "metadata": {},
   "outputs": [],
   "source": [
    "# 超参数\n",
    "learning_rate = 1e-3\n",
    "batch_size = 64\n",
    "epochs = 10"
   ]
  },
  {
   "cell_type": "code",
   "execution_count": 7,
   "id": "intellectual-chapter",
   "metadata": {},
   "outputs": [],
   "source": [
    "# 优化迭代"
   ]
  },
  {
   "cell_type": "code",
   "execution_count": 8,
   "id": "continental-general",
   "metadata": {},
   "outputs": [],
   "source": [
    "# 损失函数\n",
    "loss_fn = nn.CrossEntropyLoss()"
   ]
  },
  {
   "cell_type": "code",
   "execution_count": 9,
   "id": "immune-fever",
   "metadata": {},
   "outputs": [],
   "source": [
    "# 优化算法\n",
    "optimizer = torch.optim.SGD(model.parameters(), lr = learning_rate)"
   ]
  },
  {
   "cell_type": "code",
   "execution_count": 10,
   "id": "obvious-liabilities",
   "metadata": {},
   "outputs": [],
   "source": [
    "# 模型训练\n",
    "def train_loop(dataloader, model, loss_fn, optimizer):\n",
    "    size = len(dataloader.dataset)\n",
    "    for batch, (X, y) in enumerate(dataloader):\n",
    "        # 计算预测和损失\n",
    "        pred = model(X)\n",
    "        loss = loss_fn(pred, y)\n",
    "        # 后向传播\n",
    "        optimizer.zero_grad()\n",
    "        loss.backward()\n",
    "        optimizer.step()\n",
    "        # 记录损失\n",
    "        if batch % 100 == 0:\n",
    "            loss, current = loss.item(), batch * len(X)\n",
    "            print(f\"loss: {loss:>7f} [{current:>5d}/{size:>5d}]\")\n",
    "\n",
    "def test_loop(dataloader, model, loss_fn):\n",
    "    size = len(dataloader.dataset)\n",
    "    num_batches = len(dataloader)\n",
    "    test_loss, correct = 0, 0\n",
    "    with torch.no_grad():\n",
    "        for X, y in dataloader:\n",
    "            pred = model(X)\n",
    "            test_loss += loss_fn(pred, y).item()\n",
    "            correct += (pred.argmax(1) == y).type(torch.float).sum().item()\n",
    "    test_loss /= num_batches\n",
    "    correct /= size\n",
    "    print(f\"Test Error: \\n Accuracy: {(100*correct):>0.1f}%, Avg loss: {test_loss:>8f} \\n\")"
   ]
  },
  {
   "cell_type": "code",
   "execution_count": 11,
   "id": "optional-junior",
   "metadata": {},
   "outputs": [
    {
     "name": "stdout",
     "output_type": "stream",
     "text": [
      "Epoch 1\n",
      "-----------------------------------\n",
      "loss: 2.296005 [    0/60000]\n",
      "loss: 2.294901 [ 6400/60000]\n",
      "loss: 2.269059 [12800/60000]\n",
      "loss: 2.271240 [19200/60000]\n",
      "loss: 2.237687 [25600/60000]\n",
      "loss: 2.210445 [32000/60000]\n",
      "loss: 2.227331 [38400/60000]\n",
      "loss: 2.179227 [44800/60000]\n",
      "loss: 2.173105 [51200/60000]\n",
      "loss: 2.152340 [57600/60000]\n",
      "Test Error: \n",
      " Accuracy: 43.4%, Avg loss: 2.134496 \n",
      "\n",
      "Done!\n",
      "Epoch 2\n",
      "-----------------------------------\n",
      "loss: 2.139430 [    0/60000]\n",
      "loss: 2.137422 [ 6400/60000]\n",
      "loss: 2.069723 [12800/60000]\n",
      "loss: 2.096046 [19200/60000]\n",
      "loss: 2.024751 [25600/60000]\n",
      "loss: 1.971161 [32000/60000]\n",
      "loss: 2.003988 [38400/60000]\n",
      "loss: 1.909715 [44800/60000]\n",
      "loss: 1.922758 [51200/60000]\n",
      "loss: 1.849929 [57600/60000]\n",
      "Test Error: \n",
      " Accuracy: 54.5%, Avg loss: 1.839288 \n",
      "\n",
      "Done!\n",
      "Epoch 3\n",
      "-----------------------------------\n",
      "loss: 1.874376 [    0/60000]\n",
      "loss: 1.846648 [ 6400/60000]\n",
      "loss: 1.721131 [12800/60000]\n",
      "loss: 1.770773 [19200/60000]\n",
      "loss: 1.640266 [25600/60000]\n",
      "loss: 1.615243 [32000/60000]\n",
      "loss: 1.635833 [38400/60000]\n",
      "loss: 1.531828 [44800/60000]\n",
      "loss: 1.568254 [51200/60000]\n",
      "loss: 1.463039 [57600/60000]\n",
      "Test Error: \n",
      " Accuracy: 60.3%, Avg loss: 1.476212 \n",
      "\n",
      "Done!\n",
      "Epoch 4\n",
      "-----------------------------------\n",
      "loss: 1.543038 [    0/60000]\n",
      "loss: 1.515013 [ 6400/60000]\n",
      "loss: 1.362293 [12800/60000]\n",
      "loss: 1.438148 [19200/60000]\n",
      "loss: 1.311616 [25600/60000]\n",
      "loss: 1.325453 [32000/60000]\n",
      "loss: 1.337260 [38400/60000]\n",
      "loss: 1.255833 [44800/60000]\n",
      "loss: 1.299414 [51200/60000]\n",
      "loss: 1.203631 [57600/60000]\n",
      "Test Error: \n",
      " Accuracy: 63.8%, Avg loss: 1.225325 \n",
      "\n",
      "Done!\n",
      "Epoch 5\n",
      "-----------------------------------\n",
      "loss: 1.295467 [    0/60000]\n",
      "loss: 1.287542 [ 6400/60000]\n",
      "loss: 1.119312 [12800/60000]\n",
      "loss: 1.228142 [19200/60000]\n",
      "loss: 1.100466 [25600/60000]\n",
      "loss: 1.135254 [32000/60000]\n",
      "loss: 1.156610 [38400/60000]\n",
      "loss: 1.084702 [44800/60000]\n",
      "loss: 1.131836 [51200/60000]\n",
      "loss: 1.051199 [57600/60000]\n",
      "Test Error: \n",
      " Accuracy: 65.2%, Avg loss: 1.069413 \n",
      "\n",
      "Done!\n"
     ]
    }
   ],
   "source": [
    "for t in range(epochs):\n",
    "    print(f\"Epoch {t+1}\\n-----------------------------------\")\n",
    "    train_loop(train_dataloader, model, loss_fn, optimizer)\n",
    "    test_loop(test_dataloader, model, loss_fn)\n",
    "    print(\"Done!\")"
   ]
  }
 ],
 "metadata": {
  "kernelspec": {
   "display_name": "Python 3",
   "language": "python",
   "name": "python3"
  },
  "language_info": {
   "codemirror_mode": {
    "name": "ipython",
    "version": 3
   },
   "file_extension": ".py",
   "mimetype": "text/x-python",
   "name": "python",
   "nbconvert_exporter": "python",
   "pygments_lexer": "ipython3",
   "version": "3.7.10"
  }
 },
 "nbformat": 4,
 "nbformat_minor": 5
}
