{
 "cells": [
  {
   "cell_type": "code",
   "execution_count": 9,
   "id": "understanding-ballot",
   "metadata": {},
   "outputs": [],
   "source": [
    "# !pip install -q tensorflow-gpu=2.0.0-rc1\n",
    "import pandas as pd\n",
    "import tensorflow as tf\n",
    "from IPython.core.interactiveshell import InteractiveShell\n",
    "InteractiveShell.ast_node_interactivity = \"all\""
   ]
  },
  {
   "cell_type": "markdown",
   "id": "particular-isaac",
   "metadata": {},
   "source": [
    "## 下载数据"
   ]
  },
  {
   "cell_type": "code",
   "execution_count": 16,
   "id": "included-tower",
   "metadata": {},
   "outputs": [
    {
     "name": "stdout",
     "output_type": "stream",
     "text": [
      "age,sex,cp,trestbps,chol,fbs,restecg,thalach,exang,oldpeak,slope,ca,thal,target\n",
      "63,1,1,145,233,1,2,150,0,2.3,3,0,fixed,0\n",
      "67,1,4,160,286,0,2,108,1,1.5,2,3,normal,1\n",
      "67,1,4,120,229,0,2,129,1,2.6,2,2,reversible,0\n",
      "37,1,3,130,250,0,0,187,0,3.5,3,0,normal,0\n",
      "41,0,2,130,204,0,2,172,0,1.4,1,0,normal,0\n",
      "56,1,2,120,236,0,0,178,0,0.8,1,0,normal,0\n",
      "62,0,4,140,268,0,2,160,0,3.6,3,2,normal,1\n",
      "57,0,4,120,354,0,0,163,1,0.6,1,0,normal,0\n",
      "63,1,4,130,254,0,2,147,0,1.4,2,1,reversible,1\n"
     ]
    }
   ],
   "source": [
    "heart_file_path = tf.keras.utils.get_file(fname = \"heart.csv\", origin = \"https://storage.googleapis.com/applied-dl/heart.csv\")\n",
    "!head {heart_file_path}"
   ]
  },
  {
   "cell_type": "markdown",
   "id": "upper-train",
   "metadata": {},
   "source": [
    "## 读取数据"
   ]
  },
  {
   "cell_type": "code",
   "execution_count": 24,
   "id": "suburban-cowboy",
   "metadata": {},
   "outputs": [
    {
     "data": {
      "text/html": [
       "<div>\n",
       "<style scoped>\n",
       "    .dataframe tbody tr th:only-of-type {\n",
       "        vertical-align: middle;\n",
       "    }\n",
       "\n",
       "    .dataframe tbody tr th {\n",
       "        vertical-align: top;\n",
       "    }\n",
       "\n",
       "    .dataframe thead th {\n",
       "        text-align: right;\n",
       "    }\n",
       "</style>\n",
       "<table border=\"1\" class=\"dataframe\">\n",
       "  <thead>\n",
       "    <tr style=\"text-align: right;\">\n",
       "      <th></th>\n",
       "      <th>age</th>\n",
       "      <th>sex</th>\n",
       "      <th>cp</th>\n",
       "      <th>trestbps</th>\n",
       "      <th>chol</th>\n",
       "      <th>fbs</th>\n",
       "      <th>restecg</th>\n",
       "      <th>thalach</th>\n",
       "      <th>exang</th>\n",
       "      <th>oldpeak</th>\n",
       "      <th>slope</th>\n",
       "      <th>ca</th>\n",
       "      <th>thal</th>\n",
       "      <th>target</th>\n",
       "    </tr>\n",
       "  </thead>\n",
       "  <tbody>\n",
       "    <tr>\n",
       "      <th>0</th>\n",
       "      <td>63</td>\n",
       "      <td>1</td>\n",
       "      <td>1</td>\n",
       "      <td>145</td>\n",
       "      <td>233</td>\n",
       "      <td>1</td>\n",
       "      <td>2</td>\n",
       "      <td>150</td>\n",
       "      <td>0</td>\n",
       "      <td>2.3</td>\n",
       "      <td>3</td>\n",
       "      <td>0</td>\n",
       "      <td>fixed</td>\n",
       "      <td>0</td>\n",
       "    </tr>\n",
       "    <tr>\n",
       "      <th>1</th>\n",
       "      <td>67</td>\n",
       "      <td>1</td>\n",
       "      <td>4</td>\n",
       "      <td>160</td>\n",
       "      <td>286</td>\n",
       "      <td>0</td>\n",
       "      <td>2</td>\n",
       "      <td>108</td>\n",
       "      <td>1</td>\n",
       "      <td>1.5</td>\n",
       "      <td>2</td>\n",
       "      <td>3</td>\n",
       "      <td>normal</td>\n",
       "      <td>1</td>\n",
       "    </tr>\n",
       "    <tr>\n",
       "      <th>2</th>\n",
       "      <td>67</td>\n",
       "      <td>1</td>\n",
       "      <td>4</td>\n",
       "      <td>120</td>\n",
       "      <td>229</td>\n",
       "      <td>0</td>\n",
       "      <td>2</td>\n",
       "      <td>129</td>\n",
       "      <td>1</td>\n",
       "      <td>2.6</td>\n",
       "      <td>2</td>\n",
       "      <td>2</td>\n",
       "      <td>reversible</td>\n",
       "      <td>0</td>\n",
       "    </tr>\n",
       "    <tr>\n",
       "      <th>3</th>\n",
       "      <td>37</td>\n",
       "      <td>1</td>\n",
       "      <td>3</td>\n",
       "      <td>130</td>\n",
       "      <td>250</td>\n",
       "      <td>0</td>\n",
       "      <td>0</td>\n",
       "      <td>187</td>\n",
       "      <td>0</td>\n",
       "      <td>3.5</td>\n",
       "      <td>3</td>\n",
       "      <td>0</td>\n",
       "      <td>normal</td>\n",
       "      <td>0</td>\n",
       "    </tr>\n",
       "    <tr>\n",
       "      <th>4</th>\n",
       "      <td>41</td>\n",
       "      <td>0</td>\n",
       "      <td>2</td>\n",
       "      <td>130</td>\n",
       "      <td>204</td>\n",
       "      <td>0</td>\n",
       "      <td>2</td>\n",
       "      <td>172</td>\n",
       "      <td>0</td>\n",
       "      <td>1.4</td>\n",
       "      <td>1</td>\n",
       "      <td>0</td>\n",
       "      <td>normal</td>\n",
       "      <td>0</td>\n",
       "    </tr>\n",
       "  </tbody>\n",
       "</table>\n",
       "</div>"
      ],
      "text/plain": [
       "   age  sex  cp  trestbps  chol  fbs  restecg  thalach  exang  oldpeak  slope  \\\n",
       "0   63    1   1       145   233    1        2      150      0      2.3      3   \n",
       "1   67    1   4       160   286    0        2      108      1      1.5      2   \n",
       "2   67    1   4       120   229    0        2      129      1      2.6      2   \n",
       "3   37    1   3       130   250    0        0      187      0      3.5      3   \n",
       "4   41    0   2       130   204    0        2      172      0      1.4      1   \n",
       "\n",
       "   ca        thal  target  \n",
       "0   0       fixed       0  \n",
       "1   3      normal       1  \n",
       "2   2  reversible       0  \n",
       "3   0      normal       0  \n",
       "4   0      normal       0  "
      ]
     },
     "execution_count": 24,
     "metadata": {},
     "output_type": "execute_result"
    },
    {
     "data": {
      "text/plain": [
       "age           int64\n",
       "sex           int64\n",
       "cp            int64\n",
       "trestbps      int64\n",
       "chol          int64\n",
       "fbs           int64\n",
       "restecg       int64\n",
       "thalach       int64\n",
       "exang         int64\n",
       "oldpeak     float64\n",
       "slope         int64\n",
       "ca            int64\n",
       "thal         object\n",
       "target        int64\n",
       "dtype: object"
      ]
     },
     "execution_count": 24,
     "metadata": {},
     "output_type": "execute_result"
    }
   ],
   "source": [
    "df = pd.read_csv(heart_file_path)\n",
    "df.head()\n",
    "df.dtypes"
   ]
  },
  {
   "cell_type": "code",
   "execution_count": 27,
   "id": "blocked-cedar",
   "metadata": {},
   "outputs": [
    {
     "data": {
      "text/html": [
       "<div>\n",
       "<style scoped>\n",
       "    .dataframe tbody tr th:only-of-type {\n",
       "        vertical-align: middle;\n",
       "    }\n",
       "\n",
       "    .dataframe tbody tr th {\n",
       "        vertical-align: top;\n",
       "    }\n",
       "\n",
       "    .dataframe thead th {\n",
       "        text-align: right;\n",
       "    }\n",
       "</style>\n",
       "<table border=\"1\" class=\"dataframe\">\n",
       "  <thead>\n",
       "    <tr style=\"text-align: right;\">\n",
       "      <th></th>\n",
       "      <th>age</th>\n",
       "      <th>sex</th>\n",
       "      <th>cp</th>\n",
       "      <th>trestbps</th>\n",
       "      <th>chol</th>\n",
       "      <th>fbs</th>\n",
       "      <th>restecg</th>\n",
       "      <th>thalach</th>\n",
       "      <th>exang</th>\n",
       "      <th>oldpeak</th>\n",
       "      <th>slope</th>\n",
       "      <th>ca</th>\n",
       "      <th>thal</th>\n",
       "    </tr>\n",
       "  </thead>\n",
       "  <tbody>\n",
       "    <tr>\n",
       "      <th>0</th>\n",
       "      <td>63</td>\n",
       "      <td>1</td>\n",
       "      <td>1</td>\n",
       "      <td>145</td>\n",
       "      <td>233</td>\n",
       "      <td>1</td>\n",
       "      <td>2</td>\n",
       "      <td>150</td>\n",
       "      <td>0</td>\n",
       "      <td>2.3</td>\n",
       "      <td>3</td>\n",
       "      <td>0</td>\n",
       "      <td>2</td>\n",
       "    </tr>\n",
       "    <tr>\n",
       "      <th>1</th>\n",
       "      <td>67</td>\n",
       "      <td>1</td>\n",
       "      <td>4</td>\n",
       "      <td>160</td>\n",
       "      <td>286</td>\n",
       "      <td>0</td>\n",
       "      <td>2</td>\n",
       "      <td>108</td>\n",
       "      <td>1</td>\n",
       "      <td>1.5</td>\n",
       "      <td>2</td>\n",
       "      <td>3</td>\n",
       "      <td>3</td>\n",
       "    </tr>\n",
       "    <tr>\n",
       "      <th>2</th>\n",
       "      <td>67</td>\n",
       "      <td>1</td>\n",
       "      <td>4</td>\n",
       "      <td>120</td>\n",
       "      <td>229</td>\n",
       "      <td>0</td>\n",
       "      <td>2</td>\n",
       "      <td>129</td>\n",
       "      <td>1</td>\n",
       "      <td>2.6</td>\n",
       "      <td>2</td>\n",
       "      <td>2</td>\n",
       "      <td>4</td>\n",
       "    </tr>\n",
       "    <tr>\n",
       "      <th>3</th>\n",
       "      <td>37</td>\n",
       "      <td>1</td>\n",
       "      <td>3</td>\n",
       "      <td>130</td>\n",
       "      <td>250</td>\n",
       "      <td>0</td>\n",
       "      <td>0</td>\n",
       "      <td>187</td>\n",
       "      <td>0</td>\n",
       "      <td>3.5</td>\n",
       "      <td>3</td>\n",
       "      <td>0</td>\n",
       "      <td>3</td>\n",
       "    </tr>\n",
       "    <tr>\n",
       "      <th>4</th>\n",
       "      <td>41</td>\n",
       "      <td>0</td>\n",
       "      <td>2</td>\n",
       "      <td>130</td>\n",
       "      <td>204</td>\n",
       "      <td>0</td>\n",
       "      <td>2</td>\n",
       "      <td>172</td>\n",
       "      <td>0</td>\n",
       "      <td>1.4</td>\n",
       "      <td>1</td>\n",
       "      <td>0</td>\n",
       "      <td>3</td>\n",
       "    </tr>\n",
       "  </tbody>\n",
       "</table>\n",
       "</div>"
      ],
      "text/plain": [
       "   age  sex  cp  trestbps  chol  fbs  restecg  thalach  exang  oldpeak  slope  \\\n",
       "0   63    1   1       145   233    1        2      150      0      2.3      3   \n",
       "1   67    1   4       160   286    0        2      108      1      1.5      2   \n",
       "2   67    1   4       120   229    0        2      129      1      2.6      2   \n",
       "3   37    1   3       130   250    0        0      187      0      3.5      3   \n",
       "4   41    0   2       130   204    0        2      172      0      1.4      1   \n",
       "\n",
       "   ca  thal  \n",
       "0   0     2  \n",
       "1   3     3  \n",
       "2   2     4  \n",
       "3   0     3  \n",
       "4   0     3  "
      ]
     },
     "execution_count": 27,
     "metadata": {},
     "output_type": "execute_result"
    },
    {
     "data": {
      "text/plain": [
       "array([[63.,  1.,  1., ...,  3.,  0.,  2.],\n",
       "       [67.,  1.,  4., ...,  2.,  3.,  3.],\n",
       "       [67.,  1.,  4., ...,  2.,  2.,  4.],\n",
       "       ...,\n",
       "       [65.,  1.,  4., ...,  2.,  1.,  4.],\n",
       "       [48.,  1.,  4., ...,  1.,  2.,  4.],\n",
       "       [63.,  0.,  4., ...,  2.,  3.,  4.]])"
      ]
     },
     "execution_count": 27,
     "metadata": {},
     "output_type": "execute_result"
    }
   ],
   "source": [
    "df[\"thal\"] = pd.Categorical(df[\"thal\"])\n",
    "df[\"thal\"] = df.thal.cat.codes\n",
    "df.head()\n",
    "df.values"
   ]
  },
  {
   "cell_type": "markdown",
   "id": "amateur-smooth",
   "metadata": {},
   "source": [
    "## 构建 TensorFlow Dataset"
   ]
  },
  {
   "cell_type": "code",
   "execution_count": 26,
   "id": "noticed-hierarchy",
   "metadata": {},
   "outputs": [
    {
     "data": {
      "text/plain": [
       "0    0\n",
       "1    1\n",
       "2    0\n",
       "3    0\n",
       "4    0\n",
       "Name: target, dtype: int64"
      ]
     },
     "execution_count": 26,
     "metadata": {},
     "output_type": "execute_result"
    },
    {
     "data": {
      "text/plain": [
       "array([0, 1, 0, 0, 0, 0, 1, 0, 1, 0, 0, 0, 1, 0, 0, 0, 0, 0, 0, 0, 0, 0,\n",
       "       0, 1, 1, 0, 0, 0, 0, 1, 0, 1, 0, 0, 0, 0, 1, 0, 1, 0, 1, 0, 1, 0,\n",
       "       0, 0, 0, 0, 0, 0, 1, 0, 0, 0, 1, 0, 0, 0, 0, 0, 0, 1, 0, 0, 0, 0,\n",
       "       1, 0, 0, 0, 1, 0, 1, 0, 0, 1, 1, 0, 0, 0, 0, 0, 0, 0, 0, 1, 1, 0,\n",
       "       0, 0, 0, 0, 0, 0, 0, 1, 0, 0, 0, 0, 0, 0, 1, 1, 0, 0, 0, 1, 0, 0,\n",
       "       1, 0, 0, 0, 0, 0, 0, 0, 1, 0, 0, 0, 1, 0, 0, 0, 0, 0, 1, 1, 0, 0,\n",
       "       0, 0, 0, 1, 0, 1, 0, 1, 1, 0, 1, 0, 0, 0, 0, 0, 0, 0, 0, 0, 1, 1,\n",
       "       1, 0, 0, 0, 1, 0, 1, 0, 0, 0, 0, 0, 0, 0, 0, 0, 1, 0, 0, 0, 0, 1,\n",
       "       1, 0, 1, 0, 0, 0, 1, 1, 0, 0, 0, 0, 0, 0, 1, 0, 1, 1, 0, 1, 0, 0,\n",
       "       0, 0, 0, 0, 0, 0, 0, 0, 0, 0, 1, 0, 0, 1, 1, 1, 0, 0, 0, 0, 1, 0,\n",
       "       0, 0, 0, 0, 0, 0, 1, 0, 1, 0, 1, 1, 1, 0, 0, 0, 0, 1, 1, 0, 0, 1,\n",
       "       0, 0, 1, 1, 0, 0, 0, 0, 0, 0, 0, 0, 0, 0, 0, 1, 0, 1, 0, 0, 0, 0,\n",
       "       1, 0, 0, 0, 0, 0, 0, 0, 1, 0, 0, 0, 1, 1, 0, 0, 1, 0, 1, 1, 0, 0,\n",
       "       0, 0, 0, 0, 1, 0, 1, 0, 1, 1, 0, 0, 0, 1, 1, 1, 1])"
      ]
     },
     "execution_count": 26,
     "metadata": {},
     "output_type": "execute_result"
    }
   ],
   "source": [
    "target = df.pop(\"target\")\n",
    "target.head()\n",
    "target.values"
   ]
  },
  {
   "cell_type": "code",
   "execution_count": 22,
   "id": "voluntary-thinking",
   "metadata": {},
   "outputs": [
    {
     "name": "stdout",
     "output_type": "stream",
     "text": [
      "Feature: [ 63.    1.    1.  145.  233.    1.    2.  150.    0.    2.3   3.    0.\n",
      "   2. ], Target: 0\n",
      "Feature: [ 67.    1.    4.  160.  286.    0.    2.  108.    1.    1.5   2.    3.\n",
      "   3. ], Target: 1\n",
      "Feature: [ 67.    1.    4.  120.  229.    0.    2.  129.    1.    2.6   2.    2.\n",
      "   4. ], Target: 0\n",
      "Feature: [ 37.    1.    3.  130.  250.    0.    0.  187.    0.    3.5   3.    0.\n",
      "   3. ], Target: 0\n",
      "Feature: [ 41.    0.    2.  130.  204.    0.    2.  172.    0.    1.4   1.    0.\n",
      "   3. ], Target: 0\n"
     ]
    }
   ],
   "source": [
    "dataset = tf.data.Dataset.from_tensor_slices((df.values, target.values))\n",
    "for feature, target in dataset.take(5):\n",
    "    print(f\"Feature: {feature}, Target: {target}\")"
   ]
  },
  {
   "cell_type": "markdown",
   "id": "early-norwegian",
   "metadata": {},
   "source": [
    "# 1.构建训练数据、模型"
   ]
  },
  {
   "cell_type": "markdown",
   "id": "headed-pattern",
   "metadata": {},
   "source": [
    "## 1.1 构建训练数据"
   ]
  },
  {
   "cell_type": "code",
   "execution_count": 29,
   "id": "improving-vancouver",
   "metadata": {},
   "outputs": [],
   "source": [
    "train_dataset = dataset.shuffle(len(df)).batch(1)"
   ]
  },
  {
   "cell_type": "markdown",
   "id": "tribal-graduate",
   "metadata": {},
   "source": [
    "## 1.2 构建模型"
   ]
  },
  {
   "cell_type": "code",
   "execution_count": 30,
   "id": "worth-influence",
   "metadata": {},
   "outputs": [
    {
     "name": "stdout",
     "output_type": "stream",
     "text": [
      "Epoch 1/15\n",
      "303/303 [==============================] - 1s 571us/step - loss: 2.6222 - accuracy: 0.7099\n",
      "Epoch 2/15\n",
      "303/303 [==============================] - 0s 582us/step - loss: 1.1615 - accuracy: 0.6957\n",
      "Epoch 3/15\n",
      "303/303 [==============================] - 0s 607us/step - loss: 1.0760 - accuracy: 0.7190\n",
      "Epoch 4/15\n",
      "303/303 [==============================] - 0s 596us/step - loss: 0.8303 - accuracy: 0.7780\n",
      "Epoch 5/15\n",
      "303/303 [==============================] - 0s 615us/step - loss: 0.7715 - accuracy: 0.7822\n",
      "Epoch 6/15\n",
      "303/303 [==============================] - 0s 599us/step - loss: 0.9911 - accuracy: 0.7373\n",
      "Epoch 7/15\n",
      "303/303 [==============================] - 0s 586us/step - loss: 0.9035 - accuracy: 0.7087\n",
      "Epoch 8/15\n",
      "303/303 [==============================] - 0s 584us/step - loss: 0.8479 - accuracy: 0.7366\n",
      "Epoch 9/15\n",
      "303/303 [==============================] - 0s 582us/step - loss: 0.7759 - accuracy: 0.7257\n",
      "Epoch 10/15\n",
      "303/303 [==============================] - 0s 623us/step - loss: 0.6421 - accuracy: 0.7509\n",
      "Epoch 11/15\n",
      "303/303 [==============================] - 0s 581us/step - loss: 0.5184 - accuracy: 0.7875\n",
      "Epoch 12/15\n",
      "303/303 [==============================] - 0s 583us/step - loss: 0.4608 - accuracy: 0.8344\n",
      "Epoch 13/15\n",
      "303/303 [==============================] - 0s 594us/step - loss: 0.5445 - accuracy: 0.8075\n",
      "Epoch 14/15\n",
      "303/303 [==============================] - 0s 581us/step - loss: 0.7025 - accuracy: 0.7388\n",
      "Epoch 15/15\n",
      "303/303 [==============================] - 0s 592us/step - loss: 0.5544 - accuracy: 0.8319\n"
     ]
    },
    {
     "data": {
      "text/plain": [
       "<tensorflow.python.keras.callbacks.History at 0x18dd01e50>"
      ]
     },
     "execution_count": 30,
     "metadata": {},
     "output_type": "execute_result"
    }
   ],
   "source": [
    "def get_compiled_model():\n",
    "    model = tf.keras.Sequential([\n",
    "        tf.keras.layers.Dense(10, activation='relu'),\n",
    "        tf.keras.layers.Dense(10, activation='relu'),\n",
    "        tf.keras.layers.Dense(1, activation='sigmoid')\n",
    "    ])\n",
    "    model.compile(\n",
    "        optimizer='adam',\n",
    "        loss='binary_crossentropy',\n",
    "        metrics=['accuracy'])\n",
    "    return model\n",
    "\n",
    "model = get_compiled_model()\n",
    "model.fit(train_dataset, epochs = 15)"
   ]
  },
  {
   "cell_type": "markdown",
   "id": "arbitrary-knowing",
   "metadata": {},
   "source": [
    "# 2.构建训练数据、模型"
   ]
  },
  {
   "cell_type": "code",
   "execution_count": 38,
   "id": "angry-championship",
   "metadata": {},
   "outputs": [
    {
     "name": "stdout",
     "output_type": "stream",
     "text": [
      "Epoch 1/15\n",
      "19/19 [==============================] - 0s 1ms/step - loss: 9.2713 - accuracy: 0.7493\n",
      "Epoch 2/15\n",
      "19/19 [==============================] - 0s 1ms/step - loss: 5.2372 - accuracy: 0.7493\n",
      "Epoch 3/15\n",
      "19/19 [==============================] - 0s 1ms/step - loss: 1.8918 - accuracy: 0.7377\n",
      "Epoch 4/15\n",
      "19/19 [==============================] - 0s 1ms/step - loss: 0.9619 - accuracy: 0.7064\n",
      "Epoch 5/15\n",
      "19/19 [==============================] - 0s 1ms/step - loss: 0.8488 - accuracy: 0.7328\n",
      "Epoch 6/15\n",
      "19/19 [==============================] - 0s 1ms/step - loss: 0.8332 - accuracy: 0.7598\n",
      "Epoch 7/15\n",
      "19/19 [==============================] - 0s 1ms/step - loss: 0.8026 - accuracy: 0.7622\n",
      "Epoch 8/15\n",
      "19/19 [==============================] - 0s 1ms/step - loss: 0.7860 - accuracy: 0.7683\n",
      "Epoch 9/15\n",
      "19/19 [==============================] - 0s 1ms/step - loss: 0.7676 - accuracy: 0.7654\n",
      "Epoch 10/15\n",
      "19/19 [==============================] - 0s 1ms/step - loss: 0.7496 - accuracy: 0.7639\n",
      "Epoch 11/15\n",
      "19/19 [==============================] - 0s 1ms/step - loss: 0.7333 - accuracy: 0.7573\n",
      "Epoch 12/15\n",
      "19/19 [==============================] - 0s 1ms/step - loss: 0.7179 - accuracy: 0.7586\n",
      "Epoch 13/15\n",
      "19/19 [==============================] - 0s 1ms/step - loss: 0.7040 - accuracy: 0.7634\n",
      "Epoch 14/15\n",
      "19/19 [==============================] - 0s 1ms/step - loss: 0.6906 - accuracy: 0.7634\n",
      "Epoch 15/15\n",
      "19/19 [==============================] - 0s 1ms/step - loss: 0.6786 - accuracy: 0.7634\n"
     ]
    },
    {
     "data": {
      "text/plain": [
       "<tensorflow.python.keras.callbacks.History at 0x191a2e090>"
      ]
     },
     "execution_count": 38,
     "metadata": {},
     "output_type": "execute_result"
    }
   ],
   "source": [
    "inputs = {\n",
    "    key: tf.keras.layers.Input(shape = (), name = key) for key in df.keys()\n",
    "}\n",
    "x = tf.stack(list(inputs.values()), axis = -1)\n",
    "x = tf.keras.layers.Dense(10, activation = 'relu')(x)\n",
    "output = tf.keras.layers.Dense(1, activation='sigmoid')(x)\n",
    "\n",
    "model_func = tf.keras.Model(inputs = inputs, outputs = output)\n",
    "model_func.compile(\n",
    "    optimizer = 'adam',\n",
    "   loss = 'binary_crossentropy',\n",
    "   metrics = ['accuracy']\n",
    ")\n",
    "dict_slices = tf.data.Dataset.from_tensor_slices((df.to_dict('list'), target.values)).batch(16)\n",
    "model_func.fit(dict_slices, epochs = 15)"
   ]
  }
 ],
 "metadata": {
  "kernelspec": {
   "display_name": "Python 3",
   "language": "python",
   "name": "python3"
  },
  "language_info": {
   "codemirror_mode": {
    "name": "ipython",
    "version": 3
   },
   "file_extension": ".py",
   "mimetype": "text/x-python",
   "name": "python",
   "nbconvert_exporter": "python",
   "pygments_lexer": "ipython3",
   "version": "3.7.10"
  }
 },
 "nbformat": 4,
 "nbformat_minor": 5
}
