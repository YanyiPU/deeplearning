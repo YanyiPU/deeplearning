{
 "cells": [
  {
   "cell_type": "code",
   "execution_count": 14,
   "id": "flying-rwanda",
   "metadata": {},
   "outputs": [],
   "source": [
    "import torch\n",
    "from torch.nn.functional import binary_cross_entropy_with_logits\n",
    "from torch.nn.functional import binary_cross_entropy"
   ]
  },
  {
   "cell_type": "markdown",
   "id": "latter-bronze",
   "metadata": {},
   "source": [
    "# 1.模型及其损失函数"
   ]
  },
  {
   "cell_type": "markdown",
   "id": "synthetic-establishment",
   "metadata": {},
   "source": [
    "$$z_{(1, 3)} = x_{(1, 5)}w_{(5, 3)} + b_{(1, 3)}$$"
   ]
  },
  {
   "cell_type": "code",
   "execution_count": 22,
   "id": "administrative-captain",
   "metadata": {},
   "outputs": [
    {
     "name": "stdout",
     "output_type": "stream",
     "text": [
      "x: tensor([1., 1., 1., 1., 1.])\n",
      "shape of x: torch.Size([5])\n",
      "\n",
      "w: tensor([[-0.2893,  0.5604, -0.5727],\n",
      "        [-0.6208,  0.3335,  0.1034],\n",
      "        [ 1.4042, -0.4423,  0.0864],\n",
      "        [-0.8411,  0.8256,  1.3893],\n",
      "        [ 1.3486, -0.7275,  0.2530]], requires_grad=True)\n",
      "shape of w: torch.Size([5, 3])\n",
      "\n",
      "b: tensor([ 1.0191, -2.4529,  1.1018], requires_grad=True)\n",
      "shape of b: torch.Size([3])\n",
      "\n",
      "z: tensor([ 2.0207, -1.9032,  2.3613], grad_fn=<AddBackward0>)\n",
      "shape of z: torch.Size([3])\n",
      "\n",
      "y: tensor([0., 0., 0.])\n",
      "shape of z: torch.Size([3])\n",
      "\n",
      "loss: 1.5785146951675415\n",
      "shape of loss: torch.Size([])\n",
      "\n",
      "Gradient function for z = <AddBackward0 object at 0x12b793d90>\n",
      "Gradient function for loss = <BinaryCrossEntropyWithLogitsBackward object at 0x12b793f50>\n"
     ]
    }
   ],
   "source": [
    "x = torch.ones(5)\n",
    "y = torch.zeros(3)\n",
    "w = torch.randn(5, 3, requires_grad = True)\n",
    "b = torch.randn(3, requires_grad = True)\n",
    "z = torch.matmul(x, w) + b\n",
    "loss = torch.nn.functional.binary_cross_entropy_with_logits(z, y)\n",
    "\n",
    "print(f\"x: {x}\")\n",
    "print(f\"shape of x: {x.shape}\")\n",
    "print()\n",
    "print(f\"w: {w}\")\n",
    "print(f\"shape of w: {w.shape}\")\n",
    "print()\n",
    "print(f\"b: {b}\")\n",
    "print(f\"shape of b: {b.shape}\")\n",
    "print()\n",
    "print(f\"z: {z}\")\n",
    "print(f\"shape of z: {z.shape}\")\n",
    "print()\n",
    "print(f\"y: {y}\")\n",
    "print(f\"shape of z: {y.shape}\")\n",
    "print()\n",
    "print(f\"loss: {loss}\")\n",
    "print(f\"shape of loss: {loss.size()}\")\n",
    "print()\n",
    "print(f\"Gradient function for z = {z.grad_fn}\")\n",
    "print(f\"Gradient function for loss = {loss.grad_fn}\")"
   ]
  },
  {
   "cell_type": "markdown",
   "id": "antique-bridges",
   "metadata": {},
   "source": [
    "## 1.Tensors, Functions and Computational graph"
   ]
  },
  {
   "cell_type": "markdown",
   "id": "positive-cuisine",
   "metadata": {},
   "source": [
    "## 计算权重的梯度"
   ]
  },
  {
   "cell_type": "code",
   "execution_count": 23,
   "id": "occupied-constitutional",
   "metadata": {},
   "outputs": [
    {
     "name": "stdout",
     "output_type": "stream",
     "text": [
      "Gradient of w: tensor([[0.2943, 0.0432, 0.3046],\n",
      "        [0.2943, 0.0432, 0.3046],\n",
      "        [0.2943, 0.0432, 0.3046],\n",
      "        [0.2943, 0.0432, 0.3046],\n",
      "        [0.2943, 0.0432, 0.3046]])\n",
      "Gradient of b: tensor([0.2943, 0.0432, 0.3046])\n"
     ]
    }
   ],
   "source": [
    "loss.backward()\n",
    "print(f\"Gradient of w: {w.grad}\")\n",
    "print(f\"Gradient of b: {b.grad}\")"
   ]
  },
  {
   "cell_type": "markdown",
   "id": "configured-vocabulary",
   "metadata": {},
   "source": [
    "## 禁止梯度跟踪"
   ]
  },
  {
   "cell_type": "code",
   "execution_count": 26,
   "id": "cognitive-malpractice",
   "metadata": {},
   "outputs": [
    {
     "name": "stdout",
     "output_type": "stream",
     "text": [
      "True\n"
     ]
    }
   ],
   "source": [
    "z = torch.matmul(x, w) + b\n",
    "print(z.requires_grad)"
   ]
  },
  {
   "cell_type": "code",
   "execution_count": 28,
   "id": "about-hughes",
   "metadata": {},
   "outputs": [
    {
     "name": "stdout",
     "output_type": "stream",
     "text": [
      "False\n"
     ]
    }
   ],
   "source": [
    "with torch.no_grad():\n",
    "    z = torch.matmul(x, w) + b\n",
    "print(z.requires_grad)"
   ]
  },
  {
   "cell_type": "code",
   "execution_count": 29,
   "id": "basic-tulsa",
   "metadata": {},
   "outputs": [
    {
     "name": "stdout",
     "output_type": "stream",
     "text": [
      "False\n"
     ]
    }
   ],
   "source": [
    "z = torch.matmul(x, w) + b\n",
    "z_det = z.detach()\n",
    "print(z_det.requires_grad)"
   ]
  },
  {
   "cell_type": "markdown",
   "id": "vietnamese-smell",
   "metadata": {},
   "source": [
    "# 2.张量梯度和雅克比乘积"
   ]
  },
  {
   "cell_type": "code",
   "execution_count": 40,
   "id": "modified-throw",
   "metadata": {},
   "outputs": [
    {
     "name": "stdout",
     "output_type": "stream",
     "text": [
      "inp\n",
      "tensor([[1., 0., 0., 0., 0.],\n",
      "        [0., 1., 0., 0., 0.],\n",
      "        [0., 0., 1., 0., 0.],\n",
      "        [0., 0., 0., 1., 0.],\n",
      "        [0., 0., 0., 0., 1.]], requires_grad=True)\n",
      "out\n",
      "tensor([[4., 1., 1., 1., 1.],\n",
      "        [1., 4., 1., 1., 1.],\n",
      "        [1., 1., 4., 1., 1.],\n",
      "        [1., 1., 1., 4., 1.],\n",
      "        [1., 1., 1., 1., 4.]], grad_fn=<PowBackward0>)\n",
      "First call\n",
      " tensor([[4., 2., 2., 2., 2.],\n",
      "        [2., 4., 2., 2., 2.],\n",
      "        [2., 2., 4., 2., 2.],\n",
      "        [2., 2., 2., 4., 2.],\n",
      "        [2., 2., 2., 2., 4.]])\n",
      "Second call\n",
      " tensor([[8., 4., 4., 4., 4.],\n",
      "        [4., 8., 4., 4., 4.],\n",
      "        [4., 4., 8., 4., 4.],\n",
      "        [4., 4., 4., 8., 4.],\n",
      "        [4., 4., 4., 4., 8.]])\n",
      "Call after zeroing gradients\n",
      " tensor([[4., 2., 2., 2., 2.],\n",
      "        [2., 4., 2., 2., 2.],\n",
      "        [2., 2., 4., 2., 2.],\n",
      "        [2., 2., 2., 4., 2.],\n",
      "        [2., 2., 2., 2., 4.]])\n"
     ]
    }
   ],
   "source": [
    "inp = torch.eye(5, requires_grad = True)\n",
    "print(f\"inp\\n{inp}\")\n",
    "\n",
    "out = (inp + 1).pow(2)\n",
    "print(f\"out\\n{out}\")\n",
    "\n",
    "out.backward(torch.ones_like(inp), retain_graph = True)\n",
    "print(\"First call\\n\", inp.grad)\n",
    "\n",
    "out.backward(torch.ones_like(inp), retain_graph = True)\n",
    "print(\"Second call\\n\", inp.grad)\n",
    "\n",
    "inp.grad.zero_()\n",
    "out.backward(torch.ones_like(inp), retain_graph = True)\n",
    "print(\"Call after zeroing gradients\\n\", inp.grad)"
   ]
  },
  {
   "cell_type": "code",
   "execution_count": null,
   "id": "unlikely-chick",
   "metadata": {},
   "outputs": [],
   "source": []
  }
 ],
 "metadata": {
  "kernelspec": {
   "display_name": "Python 3",
   "language": "python",
   "name": "python3"
  },
  "language_info": {
   "codemirror_mode": {
    "name": "ipython",
    "version": 3
   },
   "file_extension": ".py",
   "mimetype": "text/x-python",
   "name": "python",
   "nbconvert_exporter": "python",
   "pygments_lexer": "ipython3",
   "version": "3.7.10"
  }
 },
 "nbformat": 4,
 "nbformat_minor": 5
}
