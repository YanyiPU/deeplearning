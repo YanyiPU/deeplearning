{
 "cells": [
  {
   "cell_type": "markdown",
   "id": "electrical-bathroom",
   "metadata": {},
   "source": [
    "处理自然语言的模型通常使用不同的字符集来处理不同的语言。Unicode 是一种标准的编码系统，用于表示几乎所有语言的字符。每个字符使用 0 和 0x10FFFF 之间的唯一整数码位进行编码。Unicode 字符串是由零个或更多码位组成的序列。"
   ]
  },
  {
   "cell_type": "markdown",
   "id": "cardiac-florence",
   "metadata": {},
   "source": [
    "# 1.Setup"
   ]
  },
  {
   "cell_type": "code",
   "execution_count": 3,
   "id": "operating-blanket",
   "metadata": {},
   "outputs": [],
   "source": [
    "import tensorflow as tf\n",
    "from IPython.core.interactiveshell import InteractiveShell\n",
    "InteractiveShell.ast_node_interactivity = \"all\""
   ]
  },
  {
   "cell_type": "markdown",
   "id": "virgin-morris",
   "metadata": {},
   "source": [
    "# 2.tf.string 数据类型"
   ]
  },
  {
   "cell_type": "code",
   "execution_count": 9,
   "id": "western-review",
   "metadata": {},
   "outputs": [
    {
     "data": {
      "text/plain": [
       "<tf.Tensor: shape=(), dtype=string, numpy=b'Thanks \\xf0\\x9f\\x98\\x8a'>"
      ]
     },
     "execution_count": 9,
     "metadata": {},
     "output_type": "execute_result"
    },
    {
     "data": {
      "text/plain": [
       "TensorShape([])"
      ]
     },
     "execution_count": 9,
     "metadata": {},
     "output_type": "execute_result"
    },
    {
     "data": {
      "text/plain": [
       "<tf.Tensor: shape=(2,), dtype=string, numpy=array([b\"You're\", b'welcome!'], dtype=object)>"
      ]
     },
     "execution_count": 9,
     "metadata": {},
     "output_type": "execute_result"
    },
    {
     "data": {
      "text/plain": [
       "TensorShape([2])"
      ]
     },
     "execution_count": 9,
     "metadata": {},
     "output_type": "execute_result"
    }
   ],
   "source": [
    "tf.constant(u\"Thanks 😊\")\n",
    "tf.constant(u\"Thanks 😊\").shape\n",
    "tf.constant([u\"You're\", \"welcome!\"])\n",
    "tf.constant([u\"You're\", \"welcome!\"]).shape"
   ]
  },
  {
   "cell_type": "markdown",
   "id": "related-footwear",
   "metadata": {},
   "source": [
    "# 3.表示 Unicode\n",
    "\n",
    "在 TensorFlow 中有两种表示 Unicode 字符串的标准方式:\n",
    "    \n",
    "- `string` 标量-使用已知字符编码对码位序列进行编码\n",
    "- `int32` 向量-每个位置包含单个码位\n",
    "\n",
    "TensorFlow 提供了在下列不同表示之间进行转换的运算:\n",
    "\n",
    "- `tf.strings.unicode_decode`：将编码的字符串标量转换为码位的向量。\n",
    "- `tf.strings.unicode_encode`：将码位的向量转换为编码的字符串标量。\n",
    "- `tf.strings.unicode_transcode`：将编码的字符串标量转换为其他编码\n",
    "\n",
    "解码多个字符串时，每个字符串中的字符数可能不相等。返回结果是 tf.RaggedTensor，其中最里面的维度的长度会根据每个字符串中的字符数而变化"
   ]
  },
  {
   "cell_type": "code",
   "execution_count": 12,
   "id": "instrumental-communication",
   "metadata": {},
   "outputs": [
    {
     "data": {
      "text/plain": [
       "<tf.Tensor: shape=(), dtype=string, numpy=b'\\xe8\\xaf\\xad\\xe8\\xa8\\x80\\xe5\\xa4\\x84\\xe7\\x90\\x86'>"
      ]
     },
     "execution_count": 12,
     "metadata": {},
     "output_type": "execute_result"
    },
    {
     "data": {
      "text/plain": [
       "<tf.Tensor: shape=(), dtype=string, numpy=b'\\x8b\\xed\\x8a\\x00Y\\x04t\\x06'>"
      ]
     },
     "execution_count": 12,
     "metadata": {},
     "output_type": "execute_result"
    },
    {
     "data": {
      "text/plain": [
       "<tf.Tensor: shape=(4,), dtype=int32, numpy=array([35821, 35328, 22788, 29702], dtype=int32)>"
      ]
     },
     "execution_count": 12,
     "metadata": {},
     "output_type": "execute_result"
    }
   ],
   "source": [
    "text_utf8 = tf.constant(u\"语言处理\")\n",
    "text_utf8\n",
    "\n",
    "text_utf16be = tf.constant(u\"语言处理\".encode(\"UTF-16-BE\"))\n",
    "text_utf16be\n",
    "\n",
    "text_chars = tf.constant([ord(char) for char in u\"语言处理\"])\n",
    "text_chars"
   ]
  },
  {
   "cell_type": "code",
   "execution_count": 19,
   "id": "bridal-jumping",
   "metadata": {},
   "outputs": [
    {
     "data": {
      "text/plain": [
       "<tf.Tensor: shape=(4,), dtype=int32, numpy=array([35821, 35328, 22788, 29702], dtype=int32)>"
      ]
     },
     "execution_count": 19,
     "metadata": {},
     "output_type": "execute_result"
    },
    {
     "data": {
      "text/plain": [
       "<tf.Tensor: shape=(), dtype=string, numpy=b'\\xe8\\xaf\\xad\\xe8\\xa8\\x80\\xe5\\xa4\\x84\\xe7\\x90\\x86'>"
      ]
     },
     "execution_count": 19,
     "metadata": {},
     "output_type": "execute_result"
    },
    {
     "data": {
      "text/plain": [
       "<tf.Tensor: shape=(), dtype=string, numpy=b'\\x8b\\xed\\x8a\\x00Y\\x04t\\x06'>"
      ]
     },
     "execution_count": 19,
     "metadata": {},
     "output_type": "execute_result"
    }
   ],
   "source": [
    "tf.strings.unicode_decode(text_utf8, input_encoding = \"UTF-8\")\n",
    "tf.strings.unicode_encode(text_chars, output_encoding = \"UTF-8\")\n",
    "tf.strings.unicode_transcode(text_utf8, input_encoding = \"UTF-8\", output_encoding = \"UTF-16-BE\")"
   ]
  },
  {
   "cell_type": "code",
   "execution_count": 27,
   "id": "choice-antarctica",
   "metadata": {},
   "outputs": [
    {
     "name": "stdout",
     "output_type": "stream",
     "text": [
      "[104, 195, 108, 108, 111]\n",
      "[87, 104, 97, 116, 32, 105, 115, 32, 116, 104, 101, 32, 119, 101, 97, 116, 104, 101, 114, 32, 116, 111, 109, 111, 114, 114, 111, 119]\n",
      "[71, 246, 246, 100, 110, 105, 103, 104, 116]\n",
      "[128522]\n"
     ]
    },
    {
     "data": {
      "text/plain": [
       "<tf.Tensor: shape=(4, 28), dtype=int32, numpy=\n",
       "array([[   104,    195,    108,    108,    111,     -1,     -1,     -1,\n",
       "            -1,     -1,     -1,     -1,     -1,     -1,     -1,     -1,\n",
       "            -1,     -1,     -1,     -1,     -1,     -1,     -1,     -1,\n",
       "            -1,     -1,     -1,     -1],\n",
       "       [    87,    104,     97,    116,     32,    105,    115,     32,\n",
       "           116,    104,    101,     32,    119,    101,     97,    116,\n",
       "           104,    101,    114,     32,    116,    111,    109,    111,\n",
       "           114,    114,    111,    119],\n",
       "       [    71,    246,    246,    100,    110,    105,    103,    104,\n",
       "           116,     -1,     -1,     -1,     -1,     -1,     -1,     -1,\n",
       "            -1,     -1,     -1,     -1,     -1,     -1,     -1,     -1,\n",
       "            -1,     -1,     -1,     -1],\n",
       "       [128522,     -1,     -1,     -1,     -1,     -1,     -1,     -1,\n",
       "            -1,     -1,     -1,     -1,     -1,     -1,     -1,     -1,\n",
       "            -1,     -1,     -1,     -1,     -1,     -1,     -1,     -1,\n",
       "            -1,     -1,     -1,     -1]], dtype=int32)>"
      ]
     },
     "execution_count": 27,
     "metadata": {},
     "output_type": "execute_result"
    },
    {
     "data": {
      "text/plain": [
       "<tensorflow.python.framework.sparse_tensor.SparseTensor at 0x192defa90>"
      ]
     },
     "execution_count": 27,
     "metadata": {},
     "output_type": "execute_result"
    }
   ],
   "source": [
    "batch_utf8 = [s.encode(\"UTF-8\") for s in [u'hÃllo',  u'What is the weather tomorrow',  u'Göödnight', u'😊']]\n",
    "\n",
    "batch_chars_ragged = tf.strings.unicode_decode(batch_utf8, input_encoding = \"UTF-8\")\n",
    "for sentence_chars in batch_chars_ragged.to_list():\n",
    "    print(sentence_chars)\n",
    "\n",
    "batch_chars_padded = batch_chars_ragged.to_tensor(default_value = -1)\n",
    "batch_chars_padded\n",
    "\n",
    "batch_chars_sparse = batch_chars_ragged.to_sparse()\n",
    "batch_chars_sparse"
   ]
  },
  {
   "cell_type": "code",
   "execution_count": 29,
   "id": "earlier-taylor",
   "metadata": {},
   "outputs": [
    {
     "data": {
      "text/plain": [
       "<tf.Tensor: shape=(3,), dtype=string, numpy=array([b'cat', b'dog', b'cow'], dtype=object)>"
      ]
     },
     "execution_count": 29,
     "metadata": {},
     "output_type": "execute_result"
    },
    {
     "data": {
      "text/plain": [
       "<tf.Tensor: shape=(4,), dtype=string, numpy=\n",
       "array([b'h\\xc3\\x83llo', b'What is the weather tomorrow',\n",
       "       b'G\\xc3\\xb6\\xc3\\xb6dnight', b'\\xf0\\x9f\\x98\\x8a'], dtype=object)>"
      ]
     },
     "execution_count": 29,
     "metadata": {},
     "output_type": "execute_result"
    },
    {
     "data": {
      "text/plain": [
       "<tf.Tensor: shape=(4,), dtype=string, numpy=\n",
       "array([b'h\\xc3\\x83llo', b'What is the weather tomorrow',\n",
       "       b'G\\xc3\\xb6\\xc3\\xb6dnight', b'\\xf0\\x9f\\x98\\x8a'], dtype=object)>"
      ]
     },
     "execution_count": 29,
     "metadata": {},
     "output_type": "execute_result"
    },
    {
     "data": {
      "text/plain": [
       "<tf.Tensor: shape=(4,), dtype=string, numpy=\n",
       "array([b'h\\xc3\\x83llo', b'What is the weather tomorrow',\n",
       "       b'G\\xc3\\xb6\\xc3\\xb6dnight', b'\\xf0\\x9f\\x98\\x8a'], dtype=object)>"
      ]
     },
     "execution_count": 29,
     "metadata": {},
     "output_type": "execute_result"
    }
   ],
   "source": [
    "tf.strings.unicode_encode(\n",
    "    [\n",
    "        [99, 97, 116], \n",
    "        [100, 111, 103],\n",
    "        [99, 111, 119],\n",
    "    ],\n",
    "    output_encoding = \"UTF-8\"\n",
    ")\n",
    "tf.strings.unicode_encode(\n",
    "    batch_chars_ragged,\n",
    "    output_encoding = \"UTF-8\"\n",
    ")\n",
    "tf.strings.unicode_encode(\n",
    "    tf.RaggedTensor.from_sparse(batch_chars_sparse),\n",
    "    output_encoding = \"UTF-8\"\n",
    ")\n",
    "tf.strings.unicode_encode(\n",
    "    tf.RaggedTensor.from_tensor(batch_chars_padded, padding = -1),\n",
    "    output_encoding = \"UTF-8\"\n",
    ")"
   ]
  },
  {
   "cell_type": "markdown",
   "id": "green-kuwait",
   "metadata": {},
   "source": [
    "# 4.Unicode 运算"
   ]
  },
  {
   "cell_type": "code",
   "execution_count": 34,
   "id": "attractive-washer",
   "metadata": {},
   "outputs": [
    {
     "name": "stdout",
     "output_type": "stream",
     "text": [
      "11 bytes\n",
      "8 UTF-8 characters\n"
     ]
    }
   ],
   "source": [
    "thanks = u'Thanks 😊'.encode(\"UTF-8\")\n",
    "num_bytes = tf.strings.length(thanks).numpy()\n",
    "num_chars = tf.strings.length(thanks, unit = \"UTF8_CHAR\").numpy()\n",
    "print(f\"{num_bytes} bytes\")\n",
    "print(f\"{num_chars} UTF-8 characters\")"
   ]
  },
  {
   "cell_type": "markdown",
   "id": "functioning-upper",
   "metadata": {},
   "source": [
    "# 5.Unicode 字符体系"
   ]
  },
  {
   "cell_type": "markdown",
   "id": "covered-complaint",
   "metadata": {},
   "source": [
    "# 6.简单分词"
   ]
  },
  {
   "cell_type": "code",
   "execution_count": 41,
   "id": "patient-stocks",
   "metadata": {},
   "outputs": [
    {
     "name": "stdout",
     "output_type": "stream",
     "text": [
      "<tf.RaggedTensor [[72, 101, 108, 108, 111, 44, 32, 119, 111, 114, 108, 100, 46], [19990, 30028, 12371, 12435, 12395, 12385, 12399]]>\n",
      "<tf.RaggedTensor [[25, 25, 25, 25, 25, 0, 0, 25, 25, 25, 25, 25, 0], [17, 17, 20, 20, 20, 20, 20]]>\n",
      "tf.Tensor([ 0  5  7 12 13 15], shape=(6,), dtype=int64)\n",
      "<tf.RaggedTensor [[72, 101, 108, 108, 111], [44, 32], [119, 111, 114, 108, 100], [46], [19990, 30028], [12371, 12435, 12395, 12385, 12399]]>\n",
      "<tf.RaggedTensor [[[72, 101, 108, 108, 111], [44, 32], [119, 111, 114, 108, 100], [46]], [[19990, 30028], [12371, 12435, 12395, 12385, 12399]]]>\n"
     ]
    },
    {
     "data": {
      "text/plain": [
       "[[b'Hello', b', ', b'world', b'.'],\n",
       " [b'\\xe4\\xb8\\x96\\xe7\\x95\\x8c',\n",
       "  b'\\xe3\\x81\\x93\\xe3\\x82\\x93\\xe3\\x81\\xab\\xe3\\x81\\xa1\\xe3\\x81\\xaf']]"
      ]
     },
     "execution_count": 41,
     "metadata": {},
     "output_type": "execute_result"
    }
   ],
   "source": [
    "sentence_texts = [u'Hello, world.', u'世界こんにちは']\n",
    "\n",
    "sentence_char_codepoint = tf.strings.unicode_decode(sentence_texts, \"UTF-8\")\n",
    "\n",
    "sentence_char_script = tf.strings.unicode_script(sentence_char_codepoint)\n",
    "\n",
    "sentence_char_starts_word = tf.concat(\n",
    "    [\n",
    "        tf.fill([sentence_char_script.nrows(), 1], True),\n",
    "        tf.not_equal(sentence_char_script[:, 1:], sentence_char_script[:, :-1]),\n",
    "    ], \n",
    "    axis = 1\n",
    ")\n",
    "word_starts = tf.squeeze(tf.where(sentence_char_starts_word.values), axis = 1)\n",
    "\n",
    "word_char_codepoint = tf.RaggedTensor.from_row_starts(values = sentence_char_codepoint.values, row_starts = word_starts)\n",
    "\n",
    "sentence_num_words = tf.reduce_sum(tf.cast(sentence_char_starts_word, tf.int64), axis = 1)\n",
    "sentence_word_char_codepoint = tf.RaggedTensor.from_row_lengths(values = word_char_codepoint, row_lengths = sentence_num_words)\n",
    "\n",
    "print(sentence_char_codepoint)\n",
    "print(sentence_char_script)\n",
    "print(word_starts)\n",
    "print(word_char_codepoint)\n",
    "print(sentence_word_char_codepoint)\n",
    "\n",
    "tf.strings.unicode_encode(sentence_word_char_codepoint, \"UTF-8\").to_list()"
   ]
  },
  {
   "cell_type": "code",
   "execution_count": null,
   "id": "interpreted-stage",
   "metadata": {},
   "outputs": [],
   "source": []
  }
 ],
 "metadata": {
  "kernelspec": {
   "display_name": "Python 3",
   "language": "python",
   "name": "python3"
  },
  "language_info": {
   "codemirror_mode": {
    "name": "ipython",
    "version": 3
   },
   "file_extension": ".py",
   "mimetype": "text/x-python",
   "name": "python",
   "nbconvert_exporter": "python",
   "pygments_lexer": "ipython3",
   "version": "3.7.10"
  }
 },
 "nbformat": 4,
 "nbformat_minor": 5
}
