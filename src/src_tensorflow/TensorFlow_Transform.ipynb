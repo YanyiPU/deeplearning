{
 "cells": [
  {
   "cell_type": "markdown",
   "id": "smooth-freight",
   "metadata": {},
   "source": [
    "- `tf.Transform`\n",
    "- Define a preprocessing function, a logical description of the pipeline that transforms the raw data into the data used to train a machine learning model.\n",
    "- Show the Apache Beam implementation used to transform data by converting the preprocessing function into a Beam pipeline."
   ]
  },
  {
   "cell_type": "markdown",
   "id": "competitive-blank",
   "metadata": {},
   "source": [
    "# 1.定义一个 preprocessing function"
   ]
  },
  {
   "cell_type": "code",
   "execution_count": 2,
   "id": "medium-geometry",
   "metadata": {},
   "outputs": [],
   "source": [
    "import tensorflow as tf\n",
    "import tensorflow_transform as tft\n",
    "import tensorflow_transform.beam as tft_beam"
   ]
  },
  {
   "cell_type": "code",
   "execution_count": null,
   "id": "painful-marine",
   "metadata": {},
   "outputs": [],
   "source": [
    "def preprocessing_fn(inputs):\n",
    "    x = inputs[\"x\"]\n",
    "    y = inputs[\"y\"]\n",
    "    s = inputs[\"s\"]\n",
    "    x_centered = x - tft.mean(x)\n",
    "    y_normalized = tft.scale_to_0_1(y)\n",
    "    s_integerized = tft.compute_and_apply_vocabulary(s)\n",
    "    x_centered_times_y_normalized = x_centered * y_normalized\n",
    "    \n",
    "    return {\n",
    "        \"x_centered\": x_centered,\n",
    "        \"y_normalized\": y_normalized,\n",
    "        \"x_centered_times_y_normalized\": x_centered_times_y_normalized,\n",
    "        \"s_integerized\": s_integerized,\n",
    "    }"
   ]
  },
  {
   "cell_type": "markdown",
   "id": "hydraulic-indie",
   "metadata": {},
   "source": [
    "# 2.Apache Beam 应用"
   ]
  },
  {
   "cell_type": "code",
   "execution_count": 4,
   "id": "exposed-world",
   "metadata": {},
   "outputs": [],
   "source": [
    "raw_data = [\n",
    "    {\"x\": 1, \"y\": 1, \"s\": \"hello\"},\n",
    "    {\"x\": 2, \"y\": 2, \"s\": \"world\"},\n",
    "    {\"x\": 3, \"y\": 3, \"s\": \"hello\"},\n",
    "]\n",
    "raw_data_metadata = ...\n",
    "transformed_dataset, transform_fn = (\n",
    "    (raw_data, raw_data_metadata) | tft_beam.AnalyzeAndTransformDataset(preprocessing_fn)\n",
    ")\n",
    "transformed_data, transformed_metadata = transformed_dataset\n",
    "\n",
    "transformed_data, transform_fn = (my_data | tft_beam.AnalyzeAndTransformDataset(preprocessing_fn))\n",
    "transform_fn = my_data | tft_beam.AnalyzeDataset(preprocessing_fn)\n",
    "transformed_data = (my_data, transform_fn) | tft_beam.TransformDataset()"
   ]
  },
  {
   "cell_type": "code",
   "execution_count": null,
   "id": "affecting-seller",
   "metadata": {},
   "outputs": [],
   "source": [
    "real_valued_columns = [feature_column.real_valued_column(key) for key in NUMERIC_FEATURE_KEYS]\n",
    "one_hot_columns = [\n",
    "    tf.feature_column.indicator_column(\n",
    "        tf.feature_column.categorical_column_with_vocabulary_file(\n",
    "            key = key,\n",
    "            vocabulary_file = tf_transform_output.vocabulary_file_by_name(vocab_filename = key)\n",
    "        )\n",
    "    ) for key in CATEGORICAL_FEATURE_KEYS\n",
    "]\n",
    "estimator = tf.estimator.LinearClassifier(real_valued_columns + one_hot_columns)"
   ]
  }
 ],
 "metadata": {
  "kernelspec": {
   "display_name": "Python 3",
   "language": "python",
   "name": "python3"
  },
  "language_info": {
   "codemirror_mode": {
    "name": "ipython",
    "version": 3
   },
   "file_extension": ".py",
   "mimetype": "text/x-python",
   "name": "python",
   "nbconvert_exporter": "python",
   "pygments_lexer": "ipython3",
   "version": "3.7.10"
  }
 },
 "nbformat": 4,
 "nbformat_minor": 5
}
