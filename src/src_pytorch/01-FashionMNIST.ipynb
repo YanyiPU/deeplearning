{
 "cells": [
  {
   "cell_type": "markdown",
   "id": "asian-earthquake",
   "metadata": {},
   "source": [
    "# 1.Setup"
   ]
  },
  {
   "cell_type": "code",
   "execution_count": 30,
   "id": "subsequent-pursuit",
   "metadata": {},
   "outputs": [],
   "source": [
    "from IPython.core.interactiveshell import InteractiveShell\n",
    "InteractiveShell.ast_node_interactivity = \"all\""
   ]
  },
  {
   "cell_type": "code",
   "execution_count": 31,
   "id": "color-footwear",
   "metadata": {},
   "outputs": [
    {
     "name": "stdout",
     "output_type": "stream",
     "text": [
      "False\n",
      "1.8.0\n"
     ]
    }
   ],
   "source": [
    "import torch\n",
    "import torch.nn as nn\n",
    "from torch.utils.data import Dataset, DataLoader\n",
    "\n",
    "import torchvision\n",
    "from torchvision import datasets\n",
    "from torchvision.transforms import ToTensor, Lambda, Compose\n",
    "\n",
    "import torch.optim as optim\n",
    "\n",
    "import matplotlib.pyplot as plt\n",
    "\n",
    "print(torch.cuda.is_available())\n",
    "print(torch.__version__)"
   ]
  },
  {
   "cell_type": "markdown",
   "id": "stone-biodiversity",
   "metadata": {},
   "source": [
    "# 2.数据、模型全局变量"
   ]
  },
  {
   "cell_type": "code",
   "execution_count": 32,
   "id": "flying-healing",
   "metadata": {},
   "outputs": [
    {
     "name": "stdout",
     "output_type": "stream",
     "text": [
      "Using cpu device\n"
     ]
    }
   ],
   "source": [
    "# 超参数\n",
    "learning_rate = 1e-3\n",
    "batch_size = 64\n",
    "epochs = 5\n",
    "\n",
    "# get cpu or gpu device for training\n",
    "device = \"cuda\" if torch.cuda.is_available() else \"cpu\"\n",
    "print(f\"Using {device} device\")"
   ]
  },
  {
   "cell_type": "markdown",
   "id": "crude-median",
   "metadata": {},
   "source": [
    "# 3.数据下载、加载"
   ]
  },
  {
   "cell_type": "markdown",
   "id": "adult-mayor",
   "metadata": {},
   "source": [
    "## 3.1 数据下载"
   ]
  },
  {
   "cell_type": "code",
   "execution_count": 33,
   "id": "assisted-empty",
   "metadata": {},
   "outputs": [],
   "source": [
    "training_data = torchvision.datasets.FashionMNIST(\n",
    "    root = \"data\",\n",
    "    train = True,\n",
    "    # download = True,\n",
    "    download = False,\n",
    "    transform = ToTensor(),\n",
    ")\n",
    "test_data = torchvision.datasets.FashionMNIST(\n",
    "    root = \"data\",\n",
    "    train = False,\n",
    "    # download = True,\n",
    "    download = False,\n",
    "    transform = ToTensor(),\n",
    ")"
   ]
  },
  {
   "cell_type": "markdown",
   "id": "endangered-premiere",
   "metadata": {},
   "source": [
    "## 3.2 数据加载--创建 data loader"
   ]
  },
  {
   "cell_type": "code",
   "execution_count": 34,
   "id": "duplicate-alexander",
   "metadata": {},
   "outputs": [],
   "source": [
    "train_dataloader = DataLoader(training_data, batch_size = batch_size, shuffle = True)#, num_workers = args.nThreads)\n",
    "test_dataloader = DataLoader(testing_data, batch_size = batch_size, shuffle = False)#, num_workers = args.nThreads)"
   ]
  },
  {
   "cell_type": "code",
   "execution_count": 35,
   "id": "hollywood-python",
   "metadata": {},
   "outputs": [
    {
     "name": "stdout",
     "output_type": "stream",
     "text": [
      "Shape of X_train [N, C, H, W]:  torch.Size([64, 1, 28, 28])\n",
      "Shape of y_train:  torch.Size([64]) torch.int64\n"
     ]
    }
   ],
   "source": [
    "for X_train, y_train in train_dataloader:\n",
    "    print(\"Shape of X_train [N, C, H, W]: \", X_train.shape)\n",
    "    print(\"Shape of y_train: \", y_train.shape, y_train.dtype)\n",
    "    break"
   ]
  },
  {
   "cell_type": "markdown",
   "id": "julian-winning",
   "metadata": {},
   "source": [
    "# 4.模型构建"
   ]
  },
  {
   "cell_type": "markdown",
   "id": "opposite-reconstruction",
   "metadata": {},
   "source": [
    "## 4.1 模型构建"
   ]
  },
  {
   "cell_type": "code",
   "execution_count": 13,
   "id": "thirty-specification",
   "metadata": {},
   "outputs": [],
   "source": [
    "class NeuralNetwork(nn.Module):\n",
    "    def __init__(self):\n",
    "        super(NeuralNetwork, self).__init__()\n",
    "        self.flatten = torch.nn.Flatten()\n",
    "        self.linear_relu_stack = torch.nn.Sequential(\n",
    "            torch.nn.Linear(28 * 28, 512),\n",
    "            torch.nn.ReLU(),\n",
    "            torch.nn.Linear(512, 512),\n",
    "            torch.nn.ReLU(),\n",
    "            torch.nn.Linear(512, 10),\n",
    "            torch.nn.ReLU(),\n",
    "        )\n",
    "    \n",
    "    def forward(self, x):\n",
    "        x = self.flatten(x)\n",
    "        logits = self.linear_relu_stack(x)\n",
    "        \n",
    "        return logits"
   ]
  },
  {
   "cell_type": "code",
   "execution_count": 14,
   "id": "short-butter",
   "metadata": {},
   "outputs": [
    {
     "name": "stdout",
     "output_type": "stream",
     "text": [
      "NeuralNetwork(\n",
      "  (flatten): Flatten(start_dim=1, end_dim=-1)\n",
      "  (linear_relu_stack): Sequential(\n",
      "    (0): Linear(in_features=784, out_features=512, bias=True)\n",
      "    (1): ReLU()\n",
      "    (2): Linear(in_features=512, out_features=512, bias=True)\n",
      "    (3): ReLU()\n",
      "    (4): Linear(in_features=512, out_features=10, bias=True)\n",
      "    (5): ReLU()\n",
      "  )\n",
      ")\n"
     ]
    }
   ],
   "source": [
    "model = NeuralNetwork().to(device)\n",
    "print(model)"
   ]
  },
  {
   "cell_type": "markdown",
   "id": "finnish-freeware",
   "metadata": {},
   "source": [
    "## 4.2 模型训练"
   ]
  },
  {
   "cell_type": "code",
   "execution_count": 19,
   "id": "municipal-substitute",
   "metadata": {},
   "outputs": [],
   "source": [
    "# 损失函数\n",
    "loss_fn = nn.CrossEntropyLoss()\n",
    "\n",
    "\n",
    "# 优化算法\n",
    "optimizer =  optim.SGD(model.parameters(), lr = learning_rate)\n",
    "\n",
    "\n",
    "def train(dataloader, model, loss_fn, optimizer):\n",
    "    \"\"\"\n",
    "    In a single training loop, the model makes predictions \n",
    "    on the training dataset (fed to it in batches), \n",
    "    and backpropagates the prediction error to adjust \n",
    "    the model’s parameters.\n",
    "    \"\"\"\n",
    "    size = len(dataloader.dataset)\n",
    "    model.train()\n",
    "    for batch, (X, y) in enumerate(dataloader):\n",
    "        X, y = X.to(device), y.to(device)\n",
    "        # 计算预测值和误差\n",
    "        pred = model(X)\n",
    "        loss = loss_fn(pred, y)\n",
    "        # 后向传播\n",
    "        optimizer.zero_grad()\n",
    "        loss.backward()\n",
    "        optimizer.step()\n",
    "        \n",
    "        if batch % 100 == 0:\n",
    "            loss, current = loss.item(), batch * len(X)\n",
    "            print(f\"loss: {loss:>7f} [{current:>5d}/{size:>5d}]\")\n",
    "\n",
    "\n",
    "def test(dataloader, model, loss_fn):\n",
    "    \"\"\"\n",
    "    check the model’s performance against \n",
    "    the test dataset to ensure it is learning\n",
    "    \"\"\"\n",
    "    size = len(dataloader.dataset)\n",
    "    num_batches = len(dataloader)\n",
    "    model.eval()\n",
    "    test_loss, correct = 0, 0\n",
    "    with torch.no_grad():\n",
    "        for X, y in dataloader:\n",
    "            X, y = X.to(device), y.to(device)\n",
    "            pred = model(X)\n",
    "            test_loss += loss_fn(pred, y).item()\n",
    "            correct += (pred.argmax(1) == y).type(torch.float).sum().item()\n",
    "    test_loss /= num_batches\n",
    "    correct /= size\n",
    "    print(f\"Test Error: \\n Accuracy: {(100 * correct):>0.1f}%, Avg loss: {test_loss:>8f} \\n\")"
   ]
  },
  {
   "cell_type": "code",
   "execution_count": 21,
   "id": "announced-warrior",
   "metadata": {},
   "outputs": [
    {
     "name": "stdout",
     "output_type": "stream",
     "text": [
      "Epoch 1\n",
      "---------------------------\n",
      "loss: 2.211925 [    0/60000]\n",
      "loss: 2.184119 [ 6400/60000]\n",
      "loss: 2.182308 [12800/60000]\n",
      "loss: 2.171432 [19200/60000]\n",
      "loss: 2.152758 [25600/60000]\n",
      "loss: 2.155768 [32000/60000]\n",
      "loss: 2.118394 [38400/60000]\n",
      "loss: 2.127769 [44800/60000]\n",
      "loss: 2.057956 [51200/60000]\n",
      "loss: 2.058423 [57600/60000]\n",
      "Test Error: \n",
      " Accuracy: 43.3%, Avg loss: 2.075775 \n",
      "\n",
      "Epoch 2\n",
      "---------------------------\n",
      "loss: 2.074895 [    0/60000]\n",
      "loss: 2.034454 [ 6400/60000]\n",
      "loss: 2.028780 [12800/60000]\n",
      "loss: 2.035985 [19200/60000]\n",
      "loss: 2.035927 [25600/60000]\n",
      "loss: 1.982557 [32000/60000]\n",
      "loss: 1.888451 [38400/60000]\n",
      "loss: 1.964618 [44800/60000]\n",
      "loss: 1.861885 [51200/60000]\n",
      "loss: 1.770835 [57600/60000]\n",
      "Test Error: \n",
      " Accuracy: 46.2%, Avg loss: 1.885451 \n",
      "\n",
      "Epoch 3\n",
      "---------------------------\n",
      "loss: 2.016435 [    0/60000]\n",
      "loss: 1.831326 [ 6400/60000]\n",
      "loss: 1.742608 [12800/60000]\n",
      "loss: 1.884317 [19200/60000]\n",
      "loss: 1.781443 [25600/60000]\n",
      "loss: 1.690614 [32000/60000]\n",
      "loss: 1.736117 [38400/60000]\n",
      "loss: 1.729019 [44800/60000]\n",
      "loss: 1.735965 [51200/60000]\n",
      "loss: 1.801405 [57600/60000]\n",
      "Test Error: \n",
      " Accuracy: 50.3%, Avg loss: 1.716960 \n",
      "\n",
      "Epoch 4\n",
      "---------------------------\n",
      "loss: 1.743802 [    0/60000]\n",
      "loss: 1.638382 [ 6400/60000]\n",
      "loss: 1.675013 [12800/60000]\n",
      "loss: 1.698474 [19200/60000]\n",
      "loss: 1.612647 [25600/60000]\n",
      "loss: 1.585563 [32000/60000]\n",
      "loss: 1.633281 [38400/60000]\n",
      "loss: 1.575229 [44800/60000]\n",
      "loss: 1.523676 [51200/60000]\n",
      "loss: 1.723353 [57600/60000]\n",
      "Test Error: \n",
      " Accuracy: 52.8%, Avg loss: 1.595024 \n",
      "\n",
      "Epoch 5\n",
      "---------------------------\n",
      "loss: 1.480615 [    0/60000]\n",
      "loss: 1.397910 [ 6400/60000]\n",
      "loss: 1.443778 [12800/60000]\n",
      "loss: 1.508343 [19200/60000]\n",
      "loss: 1.449529 [25600/60000]\n",
      "loss: 1.394683 [32000/60000]\n",
      "loss: 1.623771 [38400/60000]\n",
      "loss: 1.552207 [44800/60000]\n",
      "loss: 1.600445 [51200/60000]\n",
      "loss: 1.668584 [57600/60000]\n",
      "Test Error: \n",
      " Accuracy: 53.2%, Avg loss: 1.505180 \n",
      "\n",
      "Done!\n"
     ]
    }
   ],
   "source": [
    "for t in range(epochs):\n",
    "    print(f\"Epoch {t + 1}\\n---------------------------\")\n",
    "    train(train_dataloader, model, loss_fn, optimizer)\n",
    "    test(test_dataloader, model, loss_fn)\n",
    "print(\"Done!\")"
   ]
  },
  {
   "cell_type": "markdown",
   "id": "tender-balance",
   "metadata": {},
   "source": [
    "## 4.3 模型保存"
   ]
  },
  {
   "cell_type": "code",
   "execution_count": 24,
   "id": "reverse-visitor",
   "metadata": {},
   "outputs": [
    {
     "name": "stdout",
     "output_type": "stream",
     "text": [
      "Saved PyTorch Model State to model.pth.\n"
     ]
    }
   ],
   "source": [
    "torch.save(model.state_dict(), \"./model/model.pth\")\n",
    "print(\"Saved PyTorch Model State to model.pth.\")"
   ]
  },
  {
   "cell_type": "markdown",
   "id": "offensive-remark",
   "metadata": {},
   "source": [
    "# 5.模型重载、预测"
   ]
  },
  {
   "cell_type": "markdown",
   "id": "smaller-serve",
   "metadata": {},
   "source": [
    "## 5.1 模型重载"
   ]
  },
  {
   "cell_type": "code",
   "execution_count": 25,
   "id": "opposed-official",
   "metadata": {},
   "outputs": [
    {
     "data": {
      "text/plain": [
       "<All keys matched successfully>"
      ]
     },
     "execution_count": 25,
     "metadata": {},
     "output_type": "execute_result"
    }
   ],
   "source": [
    "model = NeuralNetwork()\n",
    "model.load_state_dict(torch.load(\"./model/model.pth\"))\n",
    "model.eval()"
   ]
  },
  {
   "cell_type": "markdown",
   "id": "elementary-layer",
   "metadata": {},
   "source": [
    "## 5.2 模型预测"
   ]
  },
  {
   "cell_type": "code",
   "execution_count": 28,
   "id": "jewish-record",
   "metadata": {},
   "outputs": [
    {
     "data": {
      "text/plain": [
       "NeuralNetwork(\n",
       "  (flatten): Flatten(start_dim=1, end_dim=-1)\n",
       "  (linear_relu_stack): Sequential(\n",
       "    (0): Linear(in_features=784, out_features=512, bias=True)\n",
       "    (1): ReLU()\n",
       "    (2): Linear(in_features=512, out_features=512, bias=True)\n",
       "    (3): ReLU()\n",
       "    (4): Linear(in_features=512, out_features=10, bias=True)\n",
       "    (5): ReLU()\n",
       "  )\n",
       ")"
      ]
     },
     "execution_count": 28,
     "metadata": {},
     "output_type": "execute_result"
    },
    {
     "name": "stdout",
     "output_type": "stream",
     "text": [
      "Predicted: 'Ankle boot', Actual: 'Ankle boot'\n"
     ]
    }
   ],
   "source": [
    "classes = [\n",
    "    \"T-shirt/top\",\n",
    "    \"Trouser\",\n",
    "    \"Pullover\",\n",
    "    \"Dress\",\n",
    "    \"Coat\",\n",
    "    \"Sandal\",\n",
    "    \"Shirt\",\n",
    "    \"Sneaker\",\n",
    "    \"Bag\",\n",
    "    \"Ankle boot\",\n",
    "]\n",
    "\n",
    "x, y = test_data[0][0], test_data[0][1]\n",
    "with torch.no_grad():\n",
    "    pred = model(x)\n",
    "    predicted, actual = classes[pred[0].argmax(0)], classes[y]\n",
    "    print(f\"Predicted: '{predicted}', Actual: '{actual}'\")"
   ]
  }
 ],
 "metadata": {
  "kernelspec": {
   "display_name": "Python 3",
   "language": "python",
   "name": "python3"
  },
  "language_info": {
   "codemirror_mode": {
    "name": "ipython",
    "version": 3
   },
   "file_extension": ".py",
   "mimetype": "text/x-python",
   "name": "python",
   "nbconvert_exporter": "python",
   "pygments_lexer": "ipython3",
   "version": "3.7.10"
  }
 },
 "nbformat": 4,
 "nbformat_minor": 5
}
