{
 "cells": [
  {
   "cell_type": "markdown",
   "id": "governmental-symbol",
   "metadata": {},
   "source": [
    "# Bidirectional LSTM on IMDB"
   ]
  },
  {
   "cell_type": "code",
   "execution_count": 5,
   "id": "dying-berkeley",
   "metadata": {},
   "outputs": [
    {
     "name": "stdout",
     "output_type": "stream",
     "text": [
      "25000 Training sequences\n",
      "25000 Validation sequences\n",
      "Model: \"model_4\"\n",
      "_________________________________________________________________\n",
      "Layer (type)                 Output Shape              Param #   \n",
      "=================================================================\n",
      "input_5 (InputLayer)         [(None, None)]            0         \n",
      "_________________________________________________________________\n",
      "embedding_4 (Embedding)      (None, None, 128)         2560000   \n",
      "_________________________________________________________________\n",
      "bidirectional_8 (Bidirection (None, None, 128)         98816     \n",
      "_________________________________________________________________\n",
      "bidirectional_9 (Bidirection (None, 128)               98816     \n",
      "_________________________________________________________________\n",
      "dense_4 (Dense)              (None, 1)                 129       \n",
      "=================================================================\n",
      "Total params: 2,757,761\n",
      "Trainable params: 2,757,761\n",
      "Non-trainable params: 0\n",
      "_________________________________________________________________\n",
      "Epoch 1/2\n",
      "782/782 [==============================] - 241s 302ms/step - loss: 0.4721 - accuracy: 0.7547 - val_loss: 0.3078 - val_accuracy: 0.8735\n",
      "Epoch 2/2\n",
      "782/782 [==============================] - 226s 289ms/step - loss: 0.1816 - accuracy: 0.9341 - val_loss: 0.3588 - val_accuracy: 0.8562\n"
     ]
    },
    {
     "data": {
      "text/plain": [
       "<tensorflow.python.keras.callbacks.History at 0x19941d450>"
      ]
     },
     "execution_count": 5,
     "metadata": {},
     "output_type": "execute_result"
    }
   ],
   "source": [
    "import numpy as np\n",
    "import tensorflow as tf\n",
    "from tensorflow.keras import layers\n",
    "\n",
    "max_features = 20000\n",
    "maxlen = 200\n",
    "batch_size = 32\n",
    "epochs = 2\n",
    "\n",
    "# 数据加载\n",
    "(x_train, y_train), (x_val, y_val) = tf.keras.datasets.imdb.load_data(num_words = max_features)\n",
    "print(len(x_train), \"Training sequences\")\n",
    "print(len(x_val), \"Validation sequences\")\n",
    "x_train = tf.keras.preprocessing.sequence.pad_sequences(x_train, maxlen = maxlen)\n",
    "x_val = tf.keras.preprocessing.sequence.pad_sequences(x_val, maxlen = maxlen)\n",
    "\n",
    "\n",
    "# 模型构建\n",
    "inputs = tf.keras.Input(shape = (None,), dtype = tf.int32)\n",
    "x = layers.Embedding(max_features, 128)(inputs)\n",
    "x = layers.Bidirectional(layers.LSTM(64, return_sequences = True))(x)\n",
    "x = layers.Bidirectional(layers.LSTM(64))(x)\n",
    "outputs = layers.Dense(1, activation = \"sigmoid\")(x)\n",
    "\n",
    "model = tf.keras.Model(inputs, outputs)\n",
    "model.summary()\n",
    "\n",
    "model.compile(\n",
    "    optimizer = \"adam\",\n",
    "    loss = \"binary_crossentropy\",\n",
    "    metrics = [\"accuracy\"],\n",
    ")\n",
    "model.fit(\n",
    "    x_train,\n",
    "    y_train, \n",
    "    batch_size = batch_size, \n",
    "    epochs = epochs, \n",
    "    validation_data = (x_val, y_val)\n",
    ")"
   ]
  },
  {
   "cell_type": "code",
   "execution_count": null,
   "id": "local-hardwood",
   "metadata": {},
   "outputs": [],
   "source": []
  }
 ],
 "metadata": {
  "kernelspec": {
   "display_name": "Python 3",
   "language": "python",
   "name": "python3"
  },
  "language_info": {
   "codemirror_mode": {
    "name": "ipython",
    "version": 3
   },
   "file_extension": ".py",
   "mimetype": "text/x-python",
   "name": "python",
   "nbconvert_exporter": "python",
   "pygments_lexer": "ipython3",
   "version": "3.7.10"
  }
 },
 "nbformat": 4,
 "nbformat_minor": 5
}
